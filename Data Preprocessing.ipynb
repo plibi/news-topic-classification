{
 "cells": [
  {
   "cell_type": "markdown",
   "metadata": {},
   "source": [
    "# 데이터 전처리 "
   ]
  },
  {
   "cell_type": "code",
   "execution_count": null,
   "metadata": {
    "id": "y48BW_a3PYMC"
   },
   "outputs": [],
   "source": [
    "# 한글 폰트를 사용하기 위한 코드\n",
    "!sudo apt-get install -y fonts-nanum\n",
    "!sudo fc-cache -fv\n",
    "!rm ~/.cache/matplotlib -rf"
   ]
  },
  {
   "cell_type": "code",
   "execution_count": 3,
   "metadata": {},
   "outputs": [],
   "source": [
    "%magic"
   ]
  },
  {
   "cell_type": "code",
   "execution_count": null,
   "metadata": {},
   "outputs": [],
   "source": [
    "# 첫번째는 뉴스 제목을 갖고 어떤 토픽에 해당하는지 분류하는 모델 \n",
    "# (Why?)\n",
    "# 더 잘 분류하기 위해 데이터 전처리시 ~~작업들 진행\n",
    "# 1)한자 및 영문자 사전을 만들어 한글로 변경해 전처리\n",
    "# 2)특수문자, 숫자 및 기호 제거"
   ]
  },
  {
   "cell_type": "markdown",
   "metadata": {
    "id": "dPw9lFIzzUcZ"
   },
   "source": [
    "## 1. 데이터 로드"
   ]
  },
  {
   "cell_type": "code",
   "execution_count": 80,
   "metadata": {
    "id": "Z9cgcGVtu6vE"
   },
   "outputs": [],
   "source": [
    "import pandas as pd\n",
    "import numpy as np\n",
    "import matplotlib.pyplot as plt\n",
    "import re\n",
    "\n",
    "plt.rc('font', family='NanumBarunGothic') "
   ]
  },
  {
   "cell_type": "code",
   "execution_count": 81,
   "metadata": {
    "colab": {
     "base_uri": "https://localhost:8080/",
     "height": 206
    },
    "id": "sQHojAy-vBrI",
    "outputId": "35d8a772-0bff-4c5c-af94-484f19fb0690"
   },
   "outputs": [
    {
     "data": {
      "text/html": [
       "\n",
       "  <div id=\"df-d6f0eae1-7796-4e1c-a033-f8bbd47cd805\">\n",
       "    <div class=\"colab-df-container\">\n",
       "      <div>\n",
       "<style scoped>\n",
       "    .dataframe tbody tr th:only-of-type {\n",
       "        vertical-align: middle;\n",
       "    }\n",
       "\n",
       "    .dataframe tbody tr th {\n",
       "        vertical-align: top;\n",
       "    }\n",
       "\n",
       "    .dataframe thead th {\n",
       "        text-align: right;\n",
       "    }\n",
       "</style>\n",
       "<table border=\"1\" class=\"dataframe\">\n",
       "  <thead>\n",
       "    <tr style=\"text-align: right;\">\n",
       "      <th></th>\n",
       "      <th>title</th>\n",
       "      <th>topic_idx</th>\n",
       "    </tr>\n",
       "  </thead>\n",
       "  <tbody>\n",
       "    <tr>\n",
       "      <th>0</th>\n",
       "      <td>이상택 매일신문사 신임 사장</td>\n",
       "      <td>2</td>\n",
       "    </tr>\n",
       "    <tr>\n",
       "      <th>1</th>\n",
       "      <td>日 후쿠시마 원전 폐로 작업에 외국인력 활용한다</td>\n",
       "      <td>4</td>\n",
       "    </tr>\n",
       "    <tr>\n",
       "      <th>2</th>\n",
       "      <td>현대차, ‘부울경’ 수소버스 보급 확대</td>\n",
       "      <td>3</td>\n",
       "    </tr>\n",
       "    <tr>\n",
       "      <th>3</th>\n",
       "      <td>국조특위 오늘 서울구치소 방문…최순실은 불출석 의사</td>\n",
       "      <td>6</td>\n",
       "    </tr>\n",
       "    <tr>\n",
       "      <th>4</th>\n",
       "      <td>통일부 통일교육 선도대학 공모…4∼5곳 지정 예정</td>\n",
       "      <td>2</td>\n",
       "    </tr>\n",
       "  </tbody>\n",
       "</table>\n",
       "</div>\n",
       "      <button class=\"colab-df-convert\" onclick=\"convertToInteractive('df-d6f0eae1-7796-4e1c-a033-f8bbd47cd805')\"\n",
       "              title=\"Convert this dataframe to an interactive table.\"\n",
       "              style=\"display:none;\">\n",
       "        \n",
       "  <svg xmlns=\"http://www.w3.org/2000/svg\" height=\"24px\"viewBox=\"0 0 24 24\"\n",
       "       width=\"24px\">\n",
       "    <path d=\"M0 0h24v24H0V0z\" fill=\"none\"/>\n",
       "    <path d=\"M18.56 5.44l.94 2.06.94-2.06 2.06-.94-2.06-.94-.94-2.06-.94 2.06-2.06.94zm-11 1L8.5 8.5l.94-2.06 2.06-.94-2.06-.94L8.5 2.5l-.94 2.06-2.06.94zm10 10l.94 2.06.94-2.06 2.06-.94-2.06-.94-.94-2.06-.94 2.06-2.06.94z\"/><path d=\"M17.41 7.96l-1.37-1.37c-.4-.4-.92-.59-1.43-.59-.52 0-1.04.2-1.43.59L10.3 9.45l-7.72 7.72c-.78.78-.78 2.05 0 2.83L4 21.41c.39.39.9.59 1.41.59.51 0 1.02-.2 1.41-.59l7.78-7.78 2.81-2.81c.8-.78.8-2.07 0-2.86zM5.41 20L4 18.59l7.72-7.72 1.47 1.35L5.41 20z\"/>\n",
       "  </svg>\n",
       "      </button>\n",
       "      \n",
       "  <style>\n",
       "    .colab-df-container {\n",
       "      display:flex;\n",
       "      flex-wrap:wrap;\n",
       "      gap: 12px;\n",
       "    }\n",
       "\n",
       "    .colab-df-convert {\n",
       "      background-color: #E8F0FE;\n",
       "      border: none;\n",
       "      border-radius: 50%;\n",
       "      cursor: pointer;\n",
       "      display: none;\n",
       "      fill: #1967D2;\n",
       "      height: 32px;\n",
       "      padding: 0 0 0 0;\n",
       "      width: 32px;\n",
       "    }\n",
       "\n",
       "    .colab-df-convert:hover {\n",
       "      background-color: #E2EBFA;\n",
       "      box-shadow: 0px 1px 2px rgba(60, 64, 67, 0.3), 0px 1px 3px 1px rgba(60, 64, 67, 0.15);\n",
       "      fill: #174EA6;\n",
       "    }\n",
       "\n",
       "    [theme=dark] .colab-df-convert {\n",
       "      background-color: #3B4455;\n",
       "      fill: #D2E3FC;\n",
       "    }\n",
       "\n",
       "    [theme=dark] .colab-df-convert:hover {\n",
       "      background-color: #434B5C;\n",
       "      box-shadow: 0px 1px 3px 1px rgba(0, 0, 0, 0.15);\n",
       "      filter: drop-shadow(0px 1px 2px rgba(0, 0, 0, 0.3));\n",
       "      fill: #FFFFFF;\n",
       "    }\n",
       "  </style>\n",
       "\n",
       "      <script>\n",
       "        const buttonEl =\n",
       "          document.querySelector('#df-d6f0eae1-7796-4e1c-a033-f8bbd47cd805 button.colab-df-convert');\n",
       "        buttonEl.style.display =\n",
       "          google.colab.kernel.accessAllowed ? 'block' : 'none';\n",
       "\n",
       "        async function convertToInteractive(key) {\n",
       "          const element = document.querySelector('#df-d6f0eae1-7796-4e1c-a033-f8bbd47cd805');\n",
       "          const dataTable =\n",
       "            await google.colab.kernel.invokeFunction('convertToInteractive',\n",
       "                                                     [key], {});\n",
       "          if (!dataTable) return;\n",
       "\n",
       "          const docLinkHtml = 'Like what you see? Visit the ' +\n",
       "            '<a target=\"_blank\" href=https://colab.research.google.com/notebooks/data_table.ipynb>data table notebook</a>'\n",
       "            + ' to learn more about interactive tables.';\n",
       "          element.innerHTML = '';\n",
       "          dataTable['output_type'] = 'display_data';\n",
       "          await google.colab.output.renderOutput(dataTable, element);\n",
       "          const docLink = document.createElement('div');\n",
       "          docLink.innerHTML = docLinkHtml;\n",
       "          element.appendChild(docLink);\n",
       "        }\n",
       "      </script>\n",
       "    </div>\n",
       "  </div>\n",
       "  "
      ],
      "text/plain": [
       "                          title  topic_idx\n",
       "0               이상택 매일신문사 신임 사장          2\n",
       "1    日 후쿠시마 원전 폐로 작업에 외국인력 활용한다          4\n",
       "2         현대차, ‘부울경’ 수소버스 보급 확대          3\n",
       "3  국조특위 오늘 서울구치소 방문…최순실은 불출석 의사          6\n",
       "4   통일부 통일교육 선도대학 공모…4∼5곳 지정 예정          2"
      ]
     },
     "execution_count": 81,
     "metadata": {},
     "output_type": "execute_result"
    }
   ],
   "source": [
    "PATH = '/content/drive/MyDrive/semi-projet/data'\n",
    "df = pd.read_csv(PATH + '/train_0411_01.csv', index_col=0)\n",
    "df.head()"
   ]
  },
  {
   "cell_type": "code",
   "execution_count": null,
   "metadata": {
    "colab": {
     "base_uri": "https://localhost:8080/"
    },
    "id": "cG37AS9KvkZE",
    "outputId": "3b9529fc-2158-49fc-c6b7-1d202f663fed"
   },
   "outputs": [
    {
     "name": "stdout",
     "output_type": "stream",
     "text": [
      "<class 'pandas.core.frame.DataFrame'>\n",
      "Int64Index: 140773 entries, 0 to 140772\n",
      "Data columns (total 2 columns):\n",
      " #   Column     Non-Null Count   Dtype \n",
      "---  ------     --------------   ----- \n",
      " 0   title      140773 non-null  object\n",
      " 1   topic_idx  140773 non-null  int64 \n",
      "dtypes: int64(1), object(1)\n",
      "memory usage: 3.2+ MB\n"
     ]
    }
   ],
   "source": [
    "df.info()"
   ]
  },
  {
   "cell_type": "markdown",
   "metadata": {
    "id": "eltkVqU3QQxm"
   },
   "source": [
    "## 2. 데이터 탐색 (EDA)"
   ]
  },
  {
   "cell_type": "code",
   "execution_count": null,
   "metadata": {
    "colab": {
     "base_uri": "https://localhost:8080/"
    },
    "id": "bx0pX6ugFkxv",
    "outputId": "855cfc24-c740-4d71-8c27-137897844956"
   },
   "outputs": [
    {
     "data": {
      "text/plain": [
       "title        0\n",
       "topic_idx    0\n",
       "dtype: int64"
      ]
     },
     "execution_count": 4,
     "metadata": {},
     "output_type": "execute_result"
    }
   ],
   "source": [
    "# 결측치 확인\n",
    "df.isnull().sum()"
   ]
  },
  {
   "cell_type": "code",
   "execution_count": null,
   "metadata": {
    "colab": {
     "base_uri": "https://localhost:8080/",
     "height": 297
    },
    "id": "fSgx_H33R8Xq",
    "outputId": "822e340d-69f0-4178-e37c-70952ab3d3f3"
   },
   "outputs": [
    {
     "data": {
      "image/png": "[encoded data removed]",
      "text/plain": [
       "<Figure size 432x288 with 1 Axes>"
      ]
     },
     "metadata": {
      "needs_background": "light"
     },
     "output_type": "display_data"
    }
   ],
   "source": [
    "# topic별 뉴스기사 수\n",
    "plt.bar(df['topic_idx'].value_counts().index,\n",
    "        df['topic_idx'].value_counts(),\n",
    "        width=0.6)\n",
    "plt.title('Topic 별 뉴스기사 개수')\n",
    "plt.xlabel(['IT과학', '경제', '사회', '생활문화', '세계', '스포츠', '정치'])\n",
    "plt.tight_layout()\n",
    "plt.show()"
   ]
  },
  {
   "cell_type": "code",
   "execution_count": 107,
   "metadata": {
    "colab": {
     "base_uri": "https://localhost:8080/"
    },
    "id": "zJ6YjC8uxSqS",
    "outputId": "9dcfd72b-0ebb-4c35-944f-dc69bef92e12"
   },
   "outputs": [
    {
     "name": "stdout",
     "output_type": "stream",
     "text": [
      "3    21425\n",
      "5    20914\n",
      "2    20290\n",
      "1    17452\n",
      "0    15778\n",
      "6    15175\n",
      "4    14373\n",
      "Name: topic_idx, dtype: int64\n",
      "\n",
      "총 데이터의 개수: 125407\n",
      "가장 많은 topic: 3, 생활문화 21425개\n",
      "가장 적은 topic: 4, 세계 14373개\n",
      "topic의 평균 개수: 17915.285714285714\n",
      "\n",
      "가장 긴 title 길이: 95\n",
      "가장 짧은 title 길이: 3\n",
      "title의 길이평균: 30.432615404243784\n"
     ]
    }
   ],
   "source": [
    "# IT과학 : 0\n",
    "# 경제 : 1\n",
    "# 사회 : 2\n",
    "# 생활문화 : 3\n",
    "# 세계 : 4\n",
    "# 스포츠 : 5\n",
    "# 정치 : 6\n",
    "counts = df['topic_idx'].value_counts()\n",
    "print(counts)\n",
    "print()\n",
    "print('총 데이터의 개수:', len(df))\n",
    "print('가장 많은 topic:', f'{counts.index[0]}, 생활문화 {counts.max()}개')\n",
    "print('가장 적은 topic:', f'{counts.index[-1]}, 세계 {counts.min()}개')\n",
    "print('topic의 평균 개수:', counts.mean())\n",
    "print()\n",
    "print('가장 긴 title 길이:', df['title'].apply(len).max())\n",
    "print('가장 짧은 title 길이:', df['title'].apply(len).min())\n",
    "print('title의 길이평균:', df['title'].apply(len).mean())\n"
   ]
  },
  {
   "cell_type": "code",
   "execution_count": null,
   "metadata": {
    "colab": {
     "base_uri": "https://localhost:8080/",
     "height": 265
    },
    "id": "Mz-R5C-vOPmz",
    "outputId": "1117da7d-034d-4f5e-f119-5b30e4d87736"
   },
   "outputs": [
    {
     "data": {
      "image/png": "[encoded data removed]",
      "text/plain": [
       "<Figure size 432x288 with 1 Axes>"
      ]
     },
     "metadata": {
      "needs_background": "light"
     },
     "output_type": "display_data"
    }
   ],
   "source": [
    "# 뉴스 제목의 길이\n",
    "plt.hist(df['title'].apply(len), bins=40)\n",
    "plt.show()"
   ]
  },
  {
   "cell_type": "code",
   "execution_count": null,
   "metadata": {
    "colab": {
     "base_uri": "https://localhost:8080/",
     "height": 802
    },
    "id": "5wqG38cnK_dc",
    "outputId": "7553b691-024b-464c-c91e-9d7fa3113f17"
   },
   "outputs": [
    {
     "data": {
      "text/html": [
       "\n",
       "  <div id=\"df-041ad6d9-4e4f-488c-91cc-5d50fef00d12\">\n",
       "    <div class=\"colab-df-container\">\n",
       "      <div>\n",
       "<style scoped>\n",
       "    .dataframe tbody tr th:only-of-type {\n",
       "        vertical-align: middle;\n",
       "    }\n",
       "\n",
       "    .dataframe tbody tr th {\n",
       "        vertical-align: top;\n",
       "    }\n",
       "\n",
       "    .dataframe thead th {\n",
       "        text-align: right;\n",
       "    }\n",
       "</style>\n",
       "<table border=\"1\" class=\"dataframe\">\n",
       "  <thead>\n",
       "    <tr style=\"text-align: right;\">\n",
       "      <th></th>\n",
       "      <th>title</th>\n",
       "      <th>topic_idx</th>\n",
       "    </tr>\n",
       "  </thead>\n",
       "  <tbody>\n",
       "    <tr>\n",
       "      <th>2143</th>\n",
       "      <td>[데일리안 오늘뉴스 종합] 단일화시 尹 47.4% 李 41.5%…오차범위 밖 5.9...</td>\n",
       "      <td>1</td>\n",
       "    </tr>\n",
       "    <tr>\n",
       "      <th>3180</th>\n",
       "      <td>[데일리안 오늘뉴스 종합] 화성서 F-5 전투기 추락…조종사 1명 사망·'2215억...</td>\n",
       "      <td>3</td>\n",
       "    </tr>\n",
       "    <tr>\n",
       "      <th>23621</th>\n",
       "      <td>[데일리안 오늘뉴스 종합] “다음은 저인가요?ㅜㅜ”, 국민의힘 \"김건희 불법 녹취,...</td>\n",
       "      <td>1</td>\n",
       "    </tr>\n",
       "    <tr>\n",
       "      <th>35590</th>\n",
       "      <td>[데일리안 오늘뉴스 종합] 이준석 \"용산이 '오욕의 역사'면 청와대 부지는 조선총독...</td>\n",
       "      <td>6</td>\n",
       "    </tr>\n",
       "    <tr>\n",
       "      <th>45001</th>\n",
       "      <td>[데일리안 오늘뉴스 종합] “다음은 저인가요?ㅜㅜ”, 국민의힘 \"김건희 불법 녹취,...</td>\n",
       "      <td>6</td>\n",
       "    </tr>\n",
       "    <tr>\n",
       "      <th>53593</th>\n",
       "      <td>[데일리안 오늘뉴스 종합] 이준석 \"용산이 '오욕의 역사'면 청와대 부지는 조선총독...</td>\n",
       "      <td>2</td>\n",
       "    </tr>\n",
       "    <tr>\n",
       "      <th>55770</th>\n",
       "      <td>[데일리안 오늘뉴스 종합] 문대통령 \"오미크론 정점 머지 않아…정부 믿어 달라\", ...</td>\n",
       "      <td>3</td>\n",
       "    </tr>\n",
       "    <tr>\n",
       "      <th>56251</th>\n",
       "      <td>[데일리안 오늘뉴스 종합] 8일밤 2차 '4자 TV토론'…기자협회 제안에 민주·국힘...</td>\n",
       "      <td>1</td>\n",
       "    </tr>\n",
       "    <tr>\n",
       "      <th>64070</th>\n",
       "      <td>[데일리안 오늘뉴스 종합] 문대통령 \"오미크론 정점 머지 않아…정부 믿어 달라\", ...</td>\n",
       "      <td>0</td>\n",
       "    </tr>\n",
       "    <tr>\n",
       "      <th>65778</th>\n",
       "      <td>[데일리안 오늘뉴스 종합] \"적은 내부에\"…실언과 과한 해명에 역풍 맞는 이재명, ...</td>\n",
       "      <td>6</td>\n",
       "    </tr>\n",
       "    <tr>\n",
       "      <th>75681</th>\n",
       "      <td>[데일리안 오늘뉴스 종합] 이재명, 도전과 과제 이것저것 해봐도…꽉 막힌 '지지율’...</td>\n",
       "      <td>1</td>\n",
       "    </tr>\n",
       "    <tr>\n",
       "      <th>76524</th>\n",
       "      <td>[데일리안 오늘뉴스 종합] \"적은 내부에\"…실언과 과한 해명에 역풍 맞는 이재명, ...</td>\n",
       "      <td>0</td>\n",
       "    </tr>\n",
       "    <tr>\n",
       "      <th>77896</th>\n",
       "      <td>[데일리안 오늘뉴스 종합] 화성서 F-5 전투기 추락…조종사 1명 사망·'2215억...</td>\n",
       "      <td>1</td>\n",
       "    </tr>\n",
       "    <tr>\n",
       "      <th>88941</th>\n",
       "      <td>[데일리안 오늘뉴스 종합] 단일화시 尹 47.4% 李 41.5%…오차범위 밖 5.9...</td>\n",
       "      <td>6</td>\n",
       "    </tr>\n",
       "    <tr>\n",
       "      <th>94136</th>\n",
       "      <td>[데일리안 오늘뉴스 종합] 하태경 \"北 화성-17형 발사 실패로 평양에 파편 비…민...</td>\n",
       "      <td>3</td>\n",
       "    </tr>\n",
       "    <tr>\n",
       "      <th>97513</th>\n",
       "      <td>[데일리안 오늘뉴스 종합] 단일화시 尹 47.4% 李 41.5%…오차범위 밖 5.9...</td>\n",
       "      <td>1</td>\n",
       "    </tr>\n",
       "    <tr>\n",
       "      <th>100930</th>\n",
       "      <td>[데일리안 오늘뉴스 종합] 靑 NSC \"北 미사일 안보리 결의 위반…긴장 고조 행위...</td>\n",
       "      <td>0</td>\n",
       "    </tr>\n",
       "    <tr>\n",
       "      <th>101846</th>\n",
       "      <td>[데일리안 오늘뉴스 종합] 尹·安 단일화 멀어졌어도…대선 당일 대진표 여전히 알 수...</td>\n",
       "      <td>1</td>\n",
       "    </tr>\n",
       "    <tr>\n",
       "      <th>105070</th>\n",
       "      <td>[데일리안 오늘뉴스 종합] “다음은 저인가요?ㅜㅜ”, 국민의힘 \"김건희 불법 녹취,...</td>\n",
       "      <td>6</td>\n",
       "    </tr>\n",
       "    <tr>\n",
       "      <th>105729</th>\n",
       "      <td>[데일리안 오늘뉴스 종합] “다음은 저인가요?ㅜㅜ”, 국민의힘 \"김건희 불법 녹취,...</td>\n",
       "      <td>1</td>\n",
       "    </tr>\n",
       "    <tr>\n",
       "      <th>118436</th>\n",
       "      <td>[데일리안 오늘뉴스 종합] 8일밤 2차 '4자 TV토론'…기자협회 제안에 민주·국힘...</td>\n",
       "      <td>3</td>\n",
       "    </tr>\n",
       "    <tr>\n",
       "      <th>123987</th>\n",
       "      <td>[데일리안 오늘뉴스 종합] 하태경 \"北 화성-17형 발사 실패로 평양에 파편 비…민...</td>\n",
       "      <td>1</td>\n",
       "    </tr>\n",
       "    <tr>\n",
       "      <th>124256</th>\n",
       "      <td>[데일리안 오늘뉴스 종합] 단일화시 尹 47.4% 李 41.5%…오차범위 밖 5.9...</td>\n",
       "      <td>0</td>\n",
       "    </tr>\n",
       "    <tr>\n",
       "      <th>136491</th>\n",
       "      <td>[데일리안 오늘뉴스 종합]'여의도 화법'과 달랐다…김건희 뜻밖의 인기, 명분도 실리...</td>\n",
       "      <td>0</td>\n",
       "    </tr>\n",
       "  </tbody>\n",
       "</table>\n",
       "</div>\n",
       "      <button class=\"colab-df-convert\" onclick=\"convertToInteractive('df-041ad6d9-4e4f-488c-91cc-5d50fef00d12')\"\n",
       "              title=\"Convert this dataframe to an interactive table.\"\n",
       "              style=\"display:none;\">\n",
       "        \n",
       "  <svg xmlns=\"http://www.w3.org/2000/svg\" height=\"24px\"viewBox=\"0 0 24 24\"\n",
       "       width=\"24px\">\n",
       "    <path d=\"M0 0h24v24H0V0z\" fill=\"none\"/>\n",
       "    <path d=\"M18.56 5.44l.94 2.06.94-2.06 2.06-.94-2.06-.94-.94-2.06-.94 2.06-2.06.94zm-11 1L8.5 8.5l.94-2.06 2.06-.94-2.06-.94L8.5 2.5l-.94 2.06-2.06.94zm10 10l.94 2.06.94-2.06 2.06-.94-2.06-.94-.94-2.06-.94 2.06-2.06.94z\"/><path d=\"M17.41 7.96l-1.37-1.37c-.4-.4-.92-.59-1.43-.59-.52 0-1.04.2-1.43.59L10.3 9.45l-7.72 7.72c-.78.78-.78 2.05 0 2.83L4 21.41c.39.39.9.59 1.41.59.51 0 1.02-.2 1.41-.59l7.78-7.78 2.81-2.81c.8-.78.8-2.07 0-2.86zM5.41 20L4 18.59l7.72-7.72 1.47 1.35L5.41 20z\"/>\n",
       "  </svg>\n",
       "      </button>\n",
       "      \n",
       "  <style>\n",
       "    .colab-df-container {\n",
       "      display:flex;\n",
       "      flex-wrap:wrap;\n",
       "      gap: 12px;\n",
       "    }\n",
       "\n",
       "    .colab-df-convert {\n",
       "      background-color: #E8F0FE;\n",
       "      border: none;\n",
       "      border-radius: 50%;\n",
       "      cursor: pointer;\n",
       "      display: none;\n",
       "      fill: #1967D2;\n",
       "      height: 32px;\n",
       "      padding: 0 0 0 0;\n",
       "      width: 32px;\n",
       "    }\n",
       "\n",
       "    .colab-df-convert:hover {\n",
       "      background-color: #E2EBFA;\n",
       "      box-shadow: 0px 1px 2px rgba(60, 64, 67, 0.3), 0px 1px 3px 1px rgba(60, 64, 67, 0.15);\n",
       "      fill: #174EA6;\n",
       "    }\n",
       "\n",
       "    [theme=dark] .colab-df-convert {\n",
       "      background-color: #3B4455;\n",
       "      fill: #D2E3FC;\n",
       "    }\n",
       "\n",
       "    [theme=dark] .colab-df-convert:hover {\n",
       "      background-color: #434B5C;\n",
       "      box-shadow: 0px 1px 3px 1px rgba(0, 0, 0, 0.15);\n",
       "      filter: drop-shadow(0px 1px 2px rgba(0, 0, 0, 0.3));\n",
       "      fill: #FFFFFF;\n",
       "    }\n",
       "  </style>\n",
       "\n",
       "      <script>\n",
       "        const buttonEl =\n",
       "          document.querySelector('#df-041ad6d9-4e4f-488c-91cc-5d50fef00d12 button.colab-df-convert');\n",
       "        buttonEl.style.display =\n",
       "          google.colab.kernel.accessAllowed ? 'block' : 'none';\n",
       "\n",
       "        async function convertToInteractive(key) {\n",
       "          const element = document.querySelector('#df-041ad6d9-4e4f-488c-91cc-5d50fef00d12');\n",
       "          const dataTable =\n",
       "            await google.colab.kernel.invokeFunction('convertToInteractive',\n",
       "                                                     [key], {});\n",
       "          if (!dataTable) return;\n",
       "\n",
       "          const docLinkHtml = 'Like what you see? Visit the ' +\n",
       "            '<a target=\"_blank\" href=https://colab.research.google.com/notebooks/data_table.ipynb>data table notebook</a>'\n",
       "            + ' to learn more about interactive tables.';\n",
       "          element.innerHTML = '';\n",
       "          dataTable['output_type'] = 'display_data';\n",
       "          await google.colab.output.renderOutput(dataTable, element);\n",
       "          const docLink = document.createElement('div');\n",
       "          docLink.innerHTML = docLinkHtml;\n",
       "          element.appendChild(docLink);\n",
       "        }\n",
       "      </script>\n",
       "    </div>\n",
       "  </div>\n",
       "  "
      ],
      "text/plain": [
       "                                                    title  topic_idx\n",
       "2143    [데일리안 오늘뉴스 종합] 단일화시 尹 47.4% 李 41.5%…오차범위 밖 5.9...          1\n",
       "3180    [데일리안 오늘뉴스 종합] 화성서 F-5 전투기 추락…조종사 1명 사망·'2215억...          3\n",
       "23621   [데일리안 오늘뉴스 종합] “다음은 저인가요?ㅜㅜ”, 국민의힘 \"김건희 불법 녹취,...          1\n",
       "35590   [데일리안 오늘뉴스 종합] 이준석 \"용산이 '오욕의 역사'면 청와대 부지는 조선총독...          6\n",
       "45001   [데일리안 오늘뉴스 종합] “다음은 저인가요?ㅜㅜ”, 국민의힘 \"김건희 불법 녹취,...          6\n",
       "53593   [데일리안 오늘뉴스 종합] 이준석 \"용산이 '오욕의 역사'면 청와대 부지는 조선총독...          2\n",
       "55770   [데일리안 오늘뉴스 종합] 문대통령 \"오미크론 정점 머지 않아…정부 믿어 달라\", ...          3\n",
       "56251   [데일리안 오늘뉴스 종합] 8일밤 2차 '4자 TV토론'…기자협회 제안에 민주·국힘...          1\n",
       "64070   [데일리안 오늘뉴스 종합] 문대통령 \"오미크론 정점 머지 않아…정부 믿어 달라\", ...          0\n",
       "65778   [데일리안 오늘뉴스 종합] \"적은 내부에\"…실언과 과한 해명에 역풍 맞는 이재명, ...          6\n",
       "75681   [데일리안 오늘뉴스 종합] 이재명, 도전과 과제 이것저것 해봐도…꽉 막힌 '지지율’...          1\n",
       "76524   [데일리안 오늘뉴스 종합] \"적은 내부에\"…실언과 과한 해명에 역풍 맞는 이재명, ...          0\n",
       "77896   [데일리안 오늘뉴스 종합] 화성서 F-5 전투기 추락…조종사 1명 사망·'2215억...          1\n",
       "88941   [데일리안 오늘뉴스 종합] 단일화시 尹 47.4% 李 41.5%…오차범위 밖 5.9...          6\n",
       "94136   [데일리안 오늘뉴스 종합] 하태경 \"北 화성-17형 발사 실패로 평양에 파편 비…민...          3\n",
       "97513   [데일리안 오늘뉴스 종합] 단일화시 尹 47.4% 李 41.5%…오차범위 밖 5.9...          1\n",
       "100930  [데일리안 오늘뉴스 종합] 靑 NSC \"北 미사일 안보리 결의 위반…긴장 고조 행위...          0\n",
       "101846  [데일리안 오늘뉴스 종합] 尹·安 단일화 멀어졌어도…대선 당일 대진표 여전히 알 수...          1\n",
       "105070  [데일리안 오늘뉴스 종합] “다음은 저인가요?ㅜㅜ”, 국민의힘 \"김건희 불법 녹취,...          6\n",
       "105729  [데일리안 오늘뉴스 종합] “다음은 저인가요?ㅜㅜ”, 국민의힘 \"김건희 불법 녹취,...          1\n",
       "118436  [데일리안 오늘뉴스 종합] 8일밤 2차 '4자 TV토론'…기자협회 제안에 민주·국힘...          3\n",
       "123987  [데일리안 오늘뉴스 종합] 하태경 \"北 화성-17형 발사 실패로 평양에 파편 비…민...          1\n",
       "124256  [데일리안 오늘뉴스 종합] 단일화시 尹 47.4% 李 41.5%…오차범위 밖 5.9...          0\n",
       "136491  [데일리안 오늘뉴스 종합]'여의도 화법'과 달랐다…김건희 뜻밖의 인기, 명분도 실리...          0"
      ]
     },
     "execution_count": 13,
     "metadata": {},
     "output_type": "execute_result"
    }
   ],
   "source": [
    "# 가장 긴 title 한번 확인 \n",
    "# => 불필요한 헤드라인 문구와 중복된 title 존재 ([데일리안 오늘뉴스 종합])\n",
    "df[df['title'].apply(len) == 102]"
   ]
  },
  {
   "cell_type": "code",
   "execution_count": null,
   "metadata": {
    "colab": {
     "base_uri": "https://localhost:8080/",
     "height": 143
    },
    "id": "HPzl5YEpOB7a",
    "outputId": "324fc11c-7f02-4fa6-8475-7fb821ff4ebe"
   },
   "outputs": [
    {
     "data": {
      "text/html": [
       "\n",
       "  <div id=\"df-140e6bfc-f20c-4acf-a450-74c122ae0abd\">\n",
       "    <div class=\"colab-df-container\">\n",
       "      <div>\n",
       "<style scoped>\n",
       "    .dataframe tbody tr th:only-of-type {\n",
       "        vertical-align: middle;\n",
       "    }\n",
       "\n",
       "    .dataframe tbody tr th {\n",
       "        vertical-align: top;\n",
       "    }\n",
       "\n",
       "    .dataframe thead th {\n",
       "        text-align: right;\n",
       "    }\n",
       "</style>\n",
       "<table border=\"1\" class=\"dataframe\">\n",
       "  <thead>\n",
       "    <tr style=\"text-align: right;\">\n",
       "      <th></th>\n",
       "      <th>title</th>\n",
       "      <th>topic_idx</th>\n",
       "    </tr>\n",
       "  </thead>\n",
       "  <tbody>\n",
       "    <tr>\n",
       "      <th>43969</th>\n",
       "      <td>달려!</td>\n",
       "      <td>4</td>\n",
       "    </tr>\n",
       "    <tr>\n",
       "      <th>75034</th>\n",
       "      <td>달려!</td>\n",
       "      <td>4</td>\n",
       "    </tr>\n",
       "    <tr>\n",
       "      <th>121333</th>\n",
       "      <td>끝까지</td>\n",
       "      <td>4</td>\n",
       "    </tr>\n",
       "  </tbody>\n",
       "</table>\n",
       "</div>\n",
       "      <button class=\"colab-df-convert\" onclick=\"convertToInteractive('df-140e6bfc-f20c-4acf-a450-74c122ae0abd')\"\n",
       "              title=\"Convert this dataframe to an interactive table.\"\n",
       "              style=\"display:none;\">\n",
       "        \n",
       "  <svg xmlns=\"http://www.w3.org/2000/svg\" height=\"24px\"viewBox=\"0 0 24 24\"\n",
       "       width=\"24px\">\n",
       "    <path d=\"M0 0h24v24H0V0z\" fill=\"none\"/>\n",
       "    <path d=\"M18.56 5.44l.94 2.06.94-2.06 2.06-.94-2.06-.94-.94-2.06-.94 2.06-2.06.94zm-11 1L8.5 8.5l.94-2.06 2.06-.94-2.06-.94L8.5 2.5l-.94 2.06-2.06.94zm10 10l.94 2.06.94-2.06 2.06-.94-2.06-.94-.94-2.06-.94 2.06-2.06.94z\"/><path d=\"M17.41 7.96l-1.37-1.37c-.4-.4-.92-.59-1.43-.59-.52 0-1.04.2-1.43.59L10.3 9.45l-7.72 7.72c-.78.78-.78 2.05 0 2.83L4 21.41c.39.39.9.59 1.41.59.51 0 1.02-.2 1.41-.59l7.78-7.78 2.81-2.81c.8-.78.8-2.07 0-2.86zM5.41 20L4 18.59l7.72-7.72 1.47 1.35L5.41 20z\"/>\n",
       "  </svg>\n",
       "      </button>\n",
       "      \n",
       "  <style>\n",
       "    .colab-df-container {\n",
       "      display:flex;\n",
       "      flex-wrap:wrap;\n",
       "      gap: 12px;\n",
       "    }\n",
       "\n",
       "    .colab-df-convert {\n",
       "      background-color: #E8F0FE;\n",
       "      border: none;\n",
       "      border-radius: 50%;\n",
       "      cursor: pointer;\n",
       "      display: none;\n",
       "      fill: #1967D2;\n",
       "      height: 32px;\n",
       "      padding: 0 0 0 0;\n",
       "      width: 32px;\n",
       "    }\n",
       "\n",
       "    .colab-df-convert:hover {\n",
       "      background-color: #E2EBFA;\n",
       "      box-shadow: 0px 1px 2px rgba(60, 64, 67, 0.3), 0px 1px 3px 1px rgba(60, 64, 67, 0.15);\n",
       "      fill: #174EA6;\n",
       "    }\n",
       "\n",
       "    [theme=dark] .colab-df-convert {\n",
       "      background-color: #3B4455;\n",
       "      fill: #D2E3FC;\n",
       "    }\n",
       "\n",
       "    [theme=dark] .colab-df-convert:hover {\n",
       "      background-color: #434B5C;\n",
       "      box-shadow: 0px 1px 3px 1px rgba(0, 0, 0, 0.15);\n",
       "      filter: drop-shadow(0px 1px 2px rgba(0, 0, 0, 0.3));\n",
       "      fill: #FFFFFF;\n",
       "    }\n",
       "  </style>\n",
       "\n",
       "      <script>\n",
       "        const buttonEl =\n",
       "          document.querySelector('#df-140e6bfc-f20c-4acf-a450-74c122ae0abd button.colab-df-convert');\n",
       "        buttonEl.style.display =\n",
       "          google.colab.kernel.accessAllowed ? 'block' : 'none';\n",
       "\n",
       "        async function convertToInteractive(key) {\n",
       "          const element = document.querySelector('#df-140e6bfc-f20c-4acf-a450-74c122ae0abd');\n",
       "          const dataTable =\n",
       "            await google.colab.kernel.invokeFunction('convertToInteractive',\n",
       "                                                     [key], {});\n",
       "          if (!dataTable) return;\n",
       "\n",
       "          const docLinkHtml = 'Like what you see? Visit the ' +\n",
       "            '<a target=\"_blank\" href=https://colab.research.google.com/notebooks/data_table.ipynb>data table notebook</a>'\n",
       "            + ' to learn more about interactive tables.';\n",
       "          element.innerHTML = '';\n",
       "          dataTable['output_type'] = 'display_data';\n",
       "          await google.colab.output.renderOutput(dataTable, element);\n",
       "          const docLink = document.createElement('div');\n",
       "          docLink.innerHTML = docLinkHtml;\n",
       "          element.appendChild(docLink);\n",
       "        }\n",
       "      </script>\n",
       "    </div>\n",
       "  </div>\n",
       "  "
      ],
      "text/plain": [
       "       title  topic_idx\n",
       "43969    달려!          4\n",
       "75034    달려!          4\n",
       "121333   끝까지          4"
      ]
     },
     "execution_count": 127,
     "metadata": {},
     "output_type": "execute_result"
    }
   ],
   "source": [
    "# 가장 짧은 title 확인\n",
    "df[df['title'].apply(len) == 3]"
   ]
  },
  {
   "cell_type": "markdown",
   "metadata": {
    "id": "fMLspjmPQLdS"
   },
   "source": [
    "## 3. 데이터 전처리\n",
    " - 한자 처리 : 국가(美 ->미국, 일, 한, 중, 북), 정치인(윤, 이, 문, 안)\n",
    " - 영문자, 특수문자, 기호는 제거\n",
    " - 중복되는 타이틀 제거"
   ]
  },
  {
   "cell_type": "code",
   "execution_count": null,
   "metadata": {
    "id": "sb8OiWrcVlDd"
   },
   "outputs": [],
   "source": [
    "# 한자를 처리하기 위한 라이브러리\n",
    "# https://pypi.org/project/hanja/\n",
    "!pip install hanja"
   ]
  },
  {
   "cell_type": "code",
   "execution_count": null,
   "metadata": {
    "id": "2j-_2QraYh-x"
   },
   "outputs": [],
   "source": [
    "import hanja\n",
    "from hanja import hangul\n",
    "from collections import Counter"
   ]
  },
  {
   "cell_type": "code",
   "execution_count": 83,
   "metadata": {
    "colab": {
     "base_uri": "https://localhost:8080/"
    },
    "id": "eEQfYKamV3Xz",
    "outputId": "e8baff71-7f94-4d72-be22-7219b49bd3b2"
   },
   "outputs": [
    {
     "name": "stdout",
     "output_type": "stream",
     "text": [
      "[('美', 3050), ('北', 2271), ('中', 1687), ('尹', 1117), ('日', 1087), ('文', 932), ('靑', 778), ('朴', 679), ('韓', 521), ('與', 477), ('英', 474), ('野', 286), ('軍', 223), ('前', 209), ('安', 206), ('獨', 190), ('車', 173), ('比', 153), ('外', 146), ('伊', 140), ('男', 135), ('佛', 133), ('故', 100), ('檢', 92), ('銀', 79), ('企', 77), ('反', 75), ('行', 73), ('亞', 71), ('人', 69), ('新', 59), ('無', 58), ('南', 53), ('重', 48), ('李', 47), ('對', 44), ('株', 42), ('硏', 40), ('女', 37), ('百', 35), ('金', 35), ('展', 32), ('發', 31), ('法', 30), ('兆', 28), ('親', 27), ('號', 27), ('戰', 25), ('印', 24), ('協', 23), ('詩', 22), ('大', 22), ('弗', 22), ('社', 17), ('色', 16), ('家', 16), ('黃', 16), ('洪', 16), ('史', 15), ('高', 15), ('非', 15), ('黨', 14), ('孫', 14), ('年', 14), ('道', 13), ('月', 13), ('證', 13), ('父', 12), ('先', 12), ('曺', 11), ('禹', 11), ('銅', 11), ('母', 11), ('風', 11), ('秋', 10), ('食', 9), ('沈', 9), ('脫', 9), ('委', 9), ('駐', 9), ('國', 8), ('巨', 8), ('生', 8), ('西', 8), ('潘', 8), ('心', 8), ('上', 8), ('産', 7), ('來', 7), ('代', 7), ('尼', 7), ('核', 7), ('千', 7), ('後', 7), ('宋', 6), ('星', 6), ('味', 6), ('休', 6), ('州', 5), ('稅', 5), ('全', 5), ('市', 5), ('下', 5), ('王', 5), ('好', 4), ('强', 4), ('籠', 4), ('談', 4), ('公', 4), ('酒', 4), ('體', 4), ('氣', 4), ('和', 4), ('惡', 4), ('崔', 4), ('阿', 4), ('恨', 3), ('習', 3), ('舊', 3), ('災', 3), ('雪', 3), ('乙', 3), ('免', 3), ('知', 3), ('丁', 3), ('式', 3), ('老', 3), ('燈', 3), ('案', 3), ('富', 3), ('花', 3), ('分', 3), ('曰', 3), ('加', 3), ('福', 3), ('現', 3), ('忍', 3), ('院', 2), ('賞', 2), ('兵', 2), ('古', 2), ('山', 2), ('甲', 2), ('情', 2), ('作', 2), ('自', 2), ('子', 2), ('內', 2), ('毛', 2), ('電', 2), ('說', 2), ('死', 2), ('完', 2), ('智', 2), ('曲', 2), ('告', 2), ('喪', 2), ('通', 2), ('鐘', 2), ('訴', 2), ('申', 2), ('訪', 2), ('街', 2), ('助', 2), ('書', 2), ('香', 2), ('萬', 2), ('里', 2), ('有', 2), ('海', 2), ('政', 2), ('論', 2), ('眞', 2), ('濠', 2), ('醫', 2), ('茶', 2), ('機', 1), ('輸', 1), ('三', 1), ('齒', 1), ('異', 1), ('竹', 1), ('工', 1), ('期', 1), ('虎', 1), ('港', 1), ('島', 1), ('畵', 1), ('讚', 1), ('叛', 1), ('聖', 1), ('料', 1), ('多', 1), ('窓', 1), ('實', 1), ('存', 1), ('差', 1), ('性', 1), ('四', 1), ('原', 1), ('益', 1), ('令', 1), ('遠', 1), ('商', 1), ('精', 1), ('農', 1), ('枯', 1), ('漫', 1), ('評', 1), ('秀', 1), ('折', 1), ('節', 1), ('業', 1), ('門', 1), ('謁', 1), ('廟', 1), ('葬', 1), ('答', 1), ('限', 1), ('板', 1), ('善', 1), ('格', 1), ('渾', 1), ('然', 1), ('一', 1), ('必', 1), ('肉', 1), ('亂', 1), ('經', 1), ('煎', 1), ('誌', 1), ('喜', 1), ('悲', 1), ('價', 1), ('十', 1), ('九', 1), ('痔', 1), ('破', 1), ('七', 1), ('勢', 1), ('科', 1), ('技', 1), ('探', 1), ('讀', 1), ('思', 1), ('再', 1), ('運', 1), ('夢', 1), ('燃', 1), ('盧', 1), ('癌', 1), ('事', 1), ('砲', 1), ('神', 1), ('仙', 1), ('司', 1), ('春', 1), ('歷', 1), ('共', 1), ('雲', 1), ('妻', 1), ('攻', 1), ('守', 1), ('力', 1), ('湖', 1), ('帝', 1), ('呂', 1), ('林', 1), ('秘', 1), ('境', 1), ('梅', 1), ('職', 1), ('漁', 1), ('童', 1), ('出', 1), ('版', 1), ('夜', 1), ('興', 1), ('君', 1), ('役', 1), ('辯', 1), ('江', 1), ('趙', 1), ('臺', 1), ('近', 1), ('而', 1), ('備', 1), ('音', 1), ('票', 1), ('太', 1), ('光', 1), ('毒', 1), ('耽', 1), ('氷', 1), ('魚', 1), ('小', 1), ('私', 1), ('寒', 1), ('愛', 1), ('最', 1), ('鄭', 1), ('乳', 1), ('計', 1), ('諍', 1), ('良', 1), ('臣', 1), ('選', 1), ('敵', 1), ('在', 1), ('逆', 1), ('壬', 1), ('寅', 1), ('空', 1), ('約', 1), ('邪', 1), ('敎', 1), ('天', 1), ('吳', 1)]\n",
      "318\n"
     ]
    }
   ],
   "source": [
    "# 한자 찾기\n",
    "title_list = list(df['title'])\n",
    "\n",
    "hj = []\n",
    "for title in title_list:\n",
    "    if re.findall('[一-龥]', title):\n",
    "        hj.append(re.findall('[一-龥]', title))\n",
    "        \n",
    "result = []\n",
    "for i in hj:\n",
    "    for char in i:\n",
    "        result.append(char)\n",
    "\n",
    "hanja_list = Counter(result).most_common()\n",
    "print(hanja_list)\n",
    "print(len(hanja_list))              # 총 318개\n",
    "trans_list = hanja_list[:32]        # 318개 중 사용빈도 상위 10%\n",
    "\n",
    "# 사용빈도 상위 10% 한자어 + 자주쓰는 한자어 목록\n",
    "chi_kor_dic = {\"美\": \"미국\", \"北\":\"북한\", \"中\": \"중국\", '尹':\"윤\", '日':\"일본\", '文':'문', '靑':'청와대',\n",
    "               '朴':'박', '韓':'한국', '與':'여당', '英':'영국', '野':'야당', '行':'행', '安':'안','軍':'군',\n",
    "               '前':'전', '獨':'독일', '車':'차', '男':'남자', '伊':'이탈리아','檢':'검찰', '銀':'은행',\n",
    "               '佛':'프랑스','南':'남한','亞':'아시아','展':'전시회','株':'주식'}\n"
   ]
  },
  {
   "cell_type": "code",
   "execution_count": 84,
   "metadata": {
    "id": "u1w9FqhQZ5GL"
   },
   "outputs": [],
   "source": [
    "# 한자 -> 한글로 변환\n",
    "translated_title = []\n",
    "for title in df['title']:\n",
    "    for key, value in chi_kor_dic.items():\n",
    "        title = title.replace(key, value)\n",
    "        title\n",
    "    title = hanja.translate(title, 'substitution')\n",
    "    translated_title.append(title)"
   ]
  },
  {
   "cell_type": "code",
   "execution_count": 85,
   "metadata": {
    "colab": {
     "base_uri": "https://localhost:8080/"
    },
    "id": "jINaH-jtaIYd",
    "outputId": "2d0b6335-6e79-4aa1-9875-9d56ff0cf082"
   },
   "outputs": [
    {
     "data": {
      "text/plain": [
       "['이상택 매일신문사 신임 사장',\n",
       " '일본 후쿠시마 원전 폐로 작업에 외국인력 활용한다',\n",
       " '현대차, ‘부울경’ 수소버스 보급 확대',\n",
       " '국조특위 오늘 서울구치소 방문…최순실은 불출석 의사',\n",
       " '통일부 통일교육 선도대학 공모…4∼5곳 지정 예정']"
      ]
     },
     "execution_count": 85,
     "metadata": {},
     "output_type": "execute_result"
    }
   ],
   "source": [
    "translated_title[:5]"
   ]
  },
  {
   "cell_type": "code",
   "execution_count": 86,
   "metadata": {
    "colab": {
     "base_uri": "https://localhost:8080/"
    },
    "id": "0YfjxBdJaO1V",
    "outputId": "7c12dc87-02fd-4843-c457-ef794f8aa9b4"
   },
   "outputs": [
    {
     "data": {
      "text/plain": [
       "0                         이상택 매일신문사 신임 사장\n",
       "1             일본 후쿠시마 원전 폐로 작업에 외국인력 활용한다\n",
       "2                   현대차   부울경  수소버스 보급 확대\n",
       "3            국조특위 오늘 서울구치소 방문 최순실은 불출석 의사\n",
       "4             통일부 통일교육 선도대학 공모    곳 지정 예정\n",
       "                       ...               \n",
       "140768    이재명   누구나집 으로 내집 마련 꿈 실현해 드릴 것 \n",
       "140769          청와대 반기문 대선 출마 시사 발언에 말 아껴\n",
       "140770        사이영상 투표한 미국 기자 류현진 수상 자격 있어\n",
       "140771     이스라엘  코로나   확진자 격리기간   일  일 단축\n",
       "140772      독도로 출발하기 전 기념촬영 하는 독도아카데미 대학생\n",
       "Name: title, Length: 126043, dtype: object"
      ]
     },
     "execution_count": 86,
     "metadata": {},
     "output_type": "execute_result"
    }
   ],
   "source": [
    "df['title'] = translated_title\n",
    "\n",
    "# 한글이 아닌 숫자, 영문자, 기호 등은 공백문자로 치환 (특수문자들은 topic에 관련되어 있지 않음)\n",
    "df['title'] = df['title'].apply(lambda x: re.sub(\"[^가-힣ㄱ-ㅎㅏ-ㅣ\\s]\",  ' ', x))\n",
    "df['title'] = df['title'].apply(lambda x: re.sub(\"데일리안 오늘뉴스 종합\", ' ', x))\n",
    "\n",
    "df['title']"
   ]
  },
  {
   "cell_type": "code",
   "execution_count": 87,
   "metadata": {
    "colab": {
     "base_uri": "https://localhost:8080/"
    },
    "id": "3BSIv-fIalIz",
    "outputId": "61fedfb3-5d79-4df4-f289-a6495592db91"
   },
   "outputs": [
    {
     "name": "stdout",
     "output_type": "stream",
     "text": [
      "125407\n",
      "3    21425\n",
      "5    20914\n",
      "2    20290\n",
      "1    17452\n",
      "0    15778\n",
      "6    15175\n",
      "4    14373\n",
      "Name: topic_idx, dtype: int64\n"
     ]
    }
   ],
   "source": [
    "# 중복 제거\n",
    "df.drop_duplicates(['title'], keep='first', inplace=True)\n",
    "print(len(df))\n",
    "print(df['topic_idx'].value_counts())"
   ]
  },
  {
   "cell_type": "code",
   "execution_count": null,
   "metadata": {},
   "outputs": [],
   "source": [
    "# 토픽별로 균등한 데이터 개수를 맞춰주기 위해 DownSampling\n",
    "# 각 토픽별 16227개씩 총 113589개\n",
    "sampling_size = df['topic_idx'].value_counts().min()\n",
    "sampling_idx = list(df['topic_idx'].value_counts().index())\n",
    "\n",
    "rand_sample = df[df['topic_idx'] == sampling_idx[0]].sample(sampling_size)\n",
    "rand_sample.head()"
   ]
  },
  {
   "cell_type": "code",
   "execution_count": null,
   "metadata": {},
   "outputs": [],
   "source": [
    "for idx in sampling_idx[1:]:\n",
    "    sampling = df[df['topic_idx'] == idx].sample(sampling_size)\n",
    "    rand_sample = pd.concat([rand_sample, sampling])\n",
    "print(len(rand_sample))"
   ]
  },
  {
   "cell_type": "code",
   "execution_count": null,
   "metadata": {},
   "outputs": [],
   "source": [
    "rand_sample['topic_idx'].value_counts()"
   ]
  },
  {
   "cell_type": "code",
   "execution_count": 88,
   "metadata": {
    "id": "ip27Q-d9aeuG"
   },
   "outputs": [],
   "source": [
    "# 전처리 완료된 csv파일 저장\n",
    "rand_sample.to_csv(PATH + '/train_0411_02.csv')"
   ]
  }
 ],
 "metadata": {
  "colab": {
   "collapsed_sections": [],
   "name": "EDA.ipynb",
   "provenance": []
  },
  "hide_input": false,
  "kernelspec": {
   "display_name": "Python 3 (ipykernel)",
   "language": "python",
   "name": "python3"
  },
  "language_info": {
   "codemirror_mode": {
    "name": "ipython",
    "version": 3
   },
   "file_extension": ".py",
   "mimetype": "text/x-python",
   "name": "python",
   "nbconvert_exporter": "python",
   "pygments_lexer": "ipython3",
   "version": "3.9.12"
  },
  "toc": {
   "base_numbering": 1,
   "nav_menu": {},
   "number_sections": false,
   "sideBar": true,
   "skip_h1_title": false,
   "title_cell": "Table of Contents",
   "title_sidebar": "Contents",
   "toc_cell": false,
   "toc_position": {},
   "toc_section_display": true,
   "toc_window_display": true
  },
  "varInspector": {
   "cols": {
    "lenName": 16,
    "lenType": 16,
    "lenVar": 40
   },
   "kernels_config": {
    "python": {
     "delete_cmd_postfix": "",
     "delete_cmd_prefix": "del ",
     "library": "var_list.py",
     "varRefreshCmd": "print(var_dic_list())"
    },
    "r": {
     "delete_cmd_postfix": ") ",
     "delete_cmd_prefix": "rm(",
     "library": "var_list.r",
     "varRefreshCmd": "cat(var_dic_list()) "
    }
   },
   "types_to_exclude": [
    "module",
    "function",
    "builtin_function_or_method",
    "instance",
    "_Feature"
   ],
   "window_display": false
  }
 },
 "nbformat": 4,
 "nbformat_minor": 1
}
