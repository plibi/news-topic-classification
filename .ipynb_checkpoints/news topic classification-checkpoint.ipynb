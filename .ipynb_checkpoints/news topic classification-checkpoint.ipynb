{
 "cells": [
  {
   "cell_type": "code",
   "execution_count": null,
   "metadata": {
    "execution": {
     "iopub.execute_input": "2022-04-15T18:27:36.643112Z",
     "iopub.status.busy": "2022-04-15T18:27:36.642727Z",
     "iopub.status.idle": "2022-04-15T18:27:36.653725Z",
     "shell.execute_reply": "2022-04-15T18:27:36.652203Z",
     "shell.execute_reply.started": "2022-04-15T18:27:36.643082Z"
    }
   },
   "outputs": [],
   "source": [
    "1. Load Dataset\n",
    "2. Tokenizing the text\n",
    "3. Creating a Dataset object for TensorFlow\n",
    "4. Fine-tuning BERT\n",
    "4.1 Using Native Tensorflow\n",
    "4.2 Using TFTrainer class\n",
    "5. Saving Model\n",
    "6. Loading the saved Model and Prediction\n",
    "7. Evaluation\n",
    "Outro\n",
    "References"
   ]
  },
  {
   "cell_type": "code",
   "execution_count": null,
   "metadata": {
    "execution": {
     "iopub.execute_input": "2022-04-16T07:36:38.289261Z",
     "iopub.status.busy": "2022-04-16T07:36:38.289034Z",
     "iopub.status.idle": "2022-04-16T07:36:39.00004Z",
     "shell.execute_reply": "2022-04-16T07:36:38.999228Z",
     "shell.execute_reply.started": "2022-04-16T07:36:38.289238Z"
    }
   },
   "outputs": [],
   "source": [
    "!nvidia-smi"
   ]
  },
  {
   "cell_type": "markdown",
   "metadata": {
    "id": "_kbUSCb_Egcu"
   },
   "source": [
    "# 뉴스 토픽 분류 (with HuggingFace Transformers)"
   ]
  },
  {
   "cell_type": "code",
   "execution_count": 2,
   "metadata": {
    "execution": {
     "iopub.execute_input": "2022-04-18T01:28:00.597803Z",
     "iopub.status.busy": "2022-04-18T01:28:00.597527Z",
     "iopub.status.idle": "2022-04-18T01:28:00.601652Z",
     "shell.execute_reply": "2022-04-18T01:28:00.600658Z",
     "shell.execute_reply.started": "2022-04-18T01:28:00.597774Z"
    },
    "id": "6LHHahpnZkAC"
   },
   "outputs": [],
   "source": [
    "import os\n",
    "os.environ['CUDA_LAUNCH_BLOCKING'] = \"1\"\n",
    "os.environ[\"CUDA_VISIBLE_DEVICES\"] = \"0\""
   ]
  },
  {
   "cell_type": "markdown",
   "metadata": {},
   "source": [
    "## 0. Install and import libraries"
   ]
  },
  {
   "cell_type": "code",
   "execution_count": 3,
   "metadata": {
    "execution": {
     "iopub.execute_input": "2022-04-18T01:28:00.613048Z",
     "iopub.status.busy": "2022-04-18T01:28:00.612580Z",
     "iopub.status.idle": "2022-04-18T01:28:26.927814Z",
     "shell.execute_reply": "2022-04-18T01:28:26.926896Z",
     "shell.execute_reply.started": "2022-04-18T01:28:00.613020Z"
    },
    "id": "8e59dc52",
    "outputId": "efd54200-4dd6-467a-c2e7-3276b5f64d47"
   },
   "outputs": [],
   "source": [
    "!pip install -U transformers==4.7.0 datasets scipy scikit-learn"
   ]
  },
  {
   "cell_type": "code",
   "execution_count": 4,
   "metadata": {
    "execution": {
     "iopub.execute_input": "2022-04-18T01:28:26.931674Z",
     "iopub.status.busy": "2022-04-18T01:28:26.931460Z",
     "iopub.status.idle": "2022-04-18T01:28:33.759760Z",
     "shell.execute_reply": "2022-04-18T01:28:33.759033Z",
     "shell.execute_reply.started": "2022-04-18T01:28:26.931649Z"
    },
    "id": "243b461f"
   },
   "outputs": [],
   "source": [
    "# import libraries\n",
    "import random\n",
    "import logging\n",
    "from IPython.display import display, HTML\n",
    "\n",
    "import numpy as np\n",
    "import pandas as pd\n",
    "import datasets\n",
    "from sklearn.model_selection import train_test_split\n",
    "from datasets import Dataset, load_dataset, load_metric, ClassLabel, Sequence\n",
    "from transformers import AutoTokenizer, AutoModelForSequenceClassification, TrainingArguments, Trainer"
   ]
  },
  {
   "cell_type": "markdown",
   "metadata": {},
   "source": [
    "## 1. Load Dataset\n",
    " - np_downsampling_data.csv : **not** preprocessed data\n",
    " - p_downsampling_data.csv : preprocessed data"
   ]
  },
  {
   "cell_type": "code",
   "execution_count": 5,
   "metadata": {
    "execution": {
     "iopub.execute_input": "2022-04-18T01:28:33.761426Z",
     "iopub.status.busy": "2022-04-18T01:28:33.761189Z",
     "iopub.status.idle": "2022-04-18T01:28:34.631530Z",
     "shell.execute_reply": "2022-04-18T01:28:34.630708Z",
     "shell.execute_reply.started": "2022-04-18T01:28:33.761393Z"
    }
   },
   "outputs": [],
   "source": [
    "# Load data (not preprocessed data, preprocessed data)\n",
    "PATH = '../input/finaldata'\n",
    "df_np = pd.read_csv(PATH + \"/np_downsampling_data.csv\")    # 전처리x, 다운샘플링o 데이터\n",
    "df_np = df_np[['title', 'topic_idx']]\n",
    "df_p = pd.read_csv(PATH + \"/p_downsampling_data.csv\")     # 전처리o, 다운샘플링o 데이터\n",
    "df_p = df_p[['title', 'topic_idx']]\n",
    "\n",
    "print('df_np')\n",
    "display(df_np.head())\n",
    "print('\\n df_p')\n",
    "display(df_p.head())"
   ]
  },
  {
   "cell_type": "code",
   "execution_count": 6,
   "metadata": {
    "execution": {
     "iopub.execute_input": "2022-04-18T01:28:34.633919Z",
     "iopub.status.busy": "2022-04-18T01:28:34.633596Z",
     "iopub.status.idle": "2022-04-18T01:28:34.651855Z",
     "shell.execute_reply": "2022-04-18T01:28:34.651042Z",
     "shell.execute_reply.started": "2022-04-18T01:28:34.633882Z"
    }
   },
   "outputs": [],
   "source": [
    "display(df_np['topic_idx'].value_counts())\n",
    "display(df_p['topic_idx'].value_counts())"
   ]
  },
  {
   "cell_type": "code",
   "execution_count": 7,
   "metadata": {
    "execution": {
     "iopub.execute_input": "2022-04-18T01:28:34.654050Z",
     "iopub.status.busy": "2022-04-18T01:28:34.653591Z",
     "iopub.status.idle": "2022-04-18T01:28:34.665497Z",
     "shell.execute_reply": "2022-04-18T01:28:34.664652Z",
     "shell.execute_reply.started": "2022-04-18T01:28:34.654014Z"
    }
   },
   "outputs": [],
   "source": [
    "# data\n",
    "print(\"length of df_np:\", len(df_np))\n",
    "print(\"length of df_p:\", len(df_p))\n",
    "\n",
    "x_np_train = df_np['title'].to_numpy().reshape(-1,1)\n",
    "y_np_target = df_np['topic_idx'].to_numpy().reshape(-1,1)\n",
    "x_p_train = df_p['title'].to_numpy().reshape(-1,1)\n",
    "y_p_target = df_p['topic_idx'].to_numpy().reshape(-1,1)\n",
    "\n",
    "x_np_train.shape, y_np_target.shape, x_p_train.shape, y_p_target.shape"
   ]
  },
  {
   "cell_type": "code",
   "execution_count": 8,
   "metadata": {
    "execution": {
     "iopub.execute_input": "2022-04-18T01:28:34.667572Z",
     "iopub.status.busy": "2022-04-18T01:28:34.667266Z",
     "iopub.status.idle": "2022-04-18T01:28:35.471356Z",
     "shell.execute_reply": "2022-04-18T01:28:35.470626Z",
     "shell.execute_reply.started": "2022-04-18T01:28:34.667477Z"
    }
   },
   "outputs": [],
   "source": [
    "dataset = [(x_np_train, y_np_target), (x_p_train, y_p_target)]\n",
    "train, target = dataset[0]\n",
    "\n",
    "x_train, x_temp, y_train, y_temp = train_test_split(train, target, test_size=0.4, stratify=target)\n",
    "x_eval, x_test, y_eval, y_test = train_test_split(x_temp, y_temp, test_size=0.5, stratify=y_temp)\n",
    "\n",
    "x_train.shape, x_eval.shape, x_test.shape, y_train.shape, y_eval.shape, y_test.shape"
   ]
  },
  {
   "cell_type": "markdown",
   "metadata": {
    "id": "u1Ia2wGh1xaF"
   },
   "source": [
    "**KLUE YNAT** 는 총 7개의 라벨을 지니는 데이터셋임을 확인할 수 있습니다. <br>\n",
    "**0 IT과학**<br>\n",
    "**1 경제**<br>\n",
    "**2 사회** <br>\n",
    "**3 생활문화** <br>\n",
    "**4 세계** <br> \n",
    "**5 스포츠** <br>\n",
    "**6 정치** <br> "
   ]
  },
  {
   "cell_type": "code",
   "execution_count": 9,
   "metadata": {
    "execution": {
     "iopub.execute_input": "2022-04-18T01:28:35.472873Z",
     "iopub.status.busy": "2022-04-18T01:28:35.472458Z",
     "iopub.status.idle": "2022-04-18T01:28:35.585665Z",
     "shell.execute_reply": "2022-04-18T01:28:35.584967Z",
     "shell.execute_reply.started": "2022-04-18T01:28:35.472833Z"
    }
   },
   "outputs": [],
   "source": [
    "# New test data\n",
    "df_test = pd.read_csv('../input/test-crawling/test_crawling.csv')\n",
    "df_test = df_test[['title', 'topic_idx']]\n",
    "df_test.rename(columns={'topic_idx': 'label'}, inplace=True)\n",
    "df_test.head()"
   ]
  },
  {
   "cell_type": "code",
   "execution_count": 10,
   "metadata": {
    "execution": {
     "iopub.execute_input": "2022-04-18T01:28:35.587394Z",
     "iopub.status.busy": "2022-04-18T01:28:35.587124Z",
     "iopub.status.idle": "2022-04-18T01:28:35.615645Z",
     "shell.execute_reply": "2022-04-18T01:28:35.615009Z",
     "shell.execute_reply.started": "2022-04-18T01:28:35.587363Z"
    }
   },
   "outputs": [],
   "source": [
    "# Test data shuffle\n",
    "df_test = df_test.sample(frac=1)\n",
    "display(df_test.info())\n",
    "df_test['label'].value_counts()"
   ]
  },
  {
   "cell_type": "markdown",
   "metadata": {
    "id": "rPvvy_wC24i_"
   },
   "source": [
    "## 2. Load tokenizer and create dataset"
   ]
  },
  {
   "cell_type": "code",
   "execution_count": 11,
   "metadata": {
    "execution": {
     "iopub.execute_input": "2022-04-18T01:28:35.617064Z",
     "iopub.status.busy": "2022-04-18T01:28:35.616751Z",
     "iopub.status.idle": "2022-04-18T01:28:35.621994Z",
     "shell.execute_reply": "2022-04-18T01:28:35.621119Z",
     "shell.execute_reply.started": "2022-04-18T01:28:35.617026Z"
    },
    "id": "6ecaacbe"
   },
   "outputs": [],
   "source": [
    "# Hyperparameters setting\n",
    "# model_checkpoint=\"plbr/my_model\"\n",
    "# model_checkpoint=\"yobi/klue-roberta-base-ynat\"\n",
    "# model_checkpoint=\"klue/roberta-base\"\n",
    "model_checkpoint=\"klue/bert-base\"\n",
    "# model_checkpoint=\"xlm-roberta-large\"\n",
    "batch_size = 32\n",
    "task = \"ynat\"\n",
    "num_epochs = 3\n",
    "learningRate = 2e-5\n",
    "weight_decay = 0.01\n",
    "seed_value = 42\n",
    "num_labels = 7"
   ]
  },
  {
   "cell_type": "code",
   "execution_count": 12,
   "metadata": {
    "execution": {
     "iopub.execute_input": "2022-04-18T01:28:35.627441Z",
     "iopub.status.busy": "2022-04-18T01:28:35.625833Z",
     "iopub.status.idle": "2022-04-18T01:28:41.623157Z",
     "shell.execute_reply": "2022-04-18T01:28:41.622532Z",
     "shell.execute_reply.started": "2022-04-18T01:28:35.627404Z"
    },
    "id": "b64e70af"
   },
   "outputs": [],
   "source": [
    "tokenizer = AutoTokenizer.from_pretrained(model_checkpoint) # use_fast=True\n",
    "# tokenizer = AutoTokenizer.from_pretrained('xlm-roberta-large') # use_fast=True"
   ]
  },
  {
   "cell_type": "code",
   "execution_count": 13,
   "metadata": {
    "execution": {
     "iopub.execute_input": "2022-04-18T01:28:41.624615Z",
     "iopub.status.busy": "2022-04-18T01:28:41.624295Z",
     "iopub.status.idle": "2022-04-18T01:28:41.637870Z",
     "shell.execute_reply": "2022-04-18T01:28:41.636948Z",
     "shell.execute_reply.started": "2022-04-18T01:28:41.624578Z"
    }
   },
   "outputs": [],
   "source": [
    "display(tokenizer)\n",
    "display(tokenizer.all_special_ids)\n",
    "display(tokenizer.all_special_tokens)\n",
    "tokenizer(list(x_train[0]))"
   ]
  },
  {
   "cell_type": "code",
   "execution_count": 14,
   "metadata": {
    "execution": {
     "iopub.execute_input": "2022-04-18T01:28:41.639589Z",
     "iopub.status.busy": "2022-04-18T01:28:41.639166Z",
     "iopub.status.idle": "2022-04-18T01:28:41.645892Z",
     "shell.execute_reply": "2022-04-18T01:28:41.645181Z",
     "shell.execute_reply.started": "2022-04-18T01:28:41.639553Z"
    }
   },
   "outputs": [],
   "source": [
    "tokenizer(list(x_train[0]), list(x_train[1]))"
   ]
  },
  {
   "cell_type": "code",
   "execution_count": 15,
   "metadata": {
    "execution": {
     "iopub.execute_input": "2022-04-18T01:28:41.647753Z",
     "iopub.status.busy": "2022-04-18T01:28:41.647497Z",
     "iopub.status.idle": "2022-04-18T01:28:41.655750Z",
     "shell.execute_reply": "2022-04-18T01:28:41.654748Z",
     "shell.execute_reply.started": "2022-04-18T01:28:41.647720Z"
    }
   },
   "outputs": [],
   "source": [
    "len(tokenizer(list(x_train[0]), list(x_train[1]))['input_ids'][0])"
   ]
  },
  {
   "cell_type": "markdown",
   "metadata": {
    "id": "FDAaxujL7l1X"
   },
   "source": [
    "`input_ids`를 보시면 `cls_token`에 해당하는 2번 토큰이 가장 좌측에 붙게 되며, `sep_token`의 3번 토큰이 각각 중간과 가장 우측에 더해진 것을 확인할 수 있습니다.\n",
    "\n",
    "이제 앞서 로드한 데이터셋에서 각 문장에 해당하는 *value* 를 뽑아주기 위한 *key* 를 정의합니다.\n",
    "\n",
    "앞서 **KLUE NLI** 데이터셋의 두 문장은 각각 `premise`와 `hypothesis`라는 이름으로 정의된 것을 확인하였으니, 두 문장의 *key* 는 마찬가지로 각각 `premise`, `hypothesis`가 되게 됩니다."
   ]
  },
  {
   "cell_type": "markdown",
   "metadata": {
    "id": "fMDIRs1M4-5a"
   },
   "source": [
    "이제 *key* 도 확인이 되었으니, 데이터셋에서 각 예제들을 뽑아와 토큰화 할 수 있는 함수를 아래와 같이 정의해줍니다.\n",
    "\n",
    "해당 함수는 모델을 훈련하기 앞서 데이터셋을 미리 토큰화 시켜놓는 작업을 위한 콜백 함수로 사용되게 됩니다.\n",
    "\n",
    "인자로 넣어주는 `truncation`는 모델이 입력 받을 수 있는 최대 길이 이상의 토큰 시퀀스가 들어오게 될 경우, 최대 길이 기준으로 시퀀스를 자르라는 의미를 지닙니다.\n",
    "\n",
    "( \\* `return_token_type_ids`는 토크나이저가 `token_type_ids`를 반환하도록 할 것인지를 결정하는 인자입니다. `transformers==4.7.0` 기준으로 `token_type_ids`가 기본적으로 반환되므로 `token_type_ids` 자체를 사용하지 않는 `RoBERTa` 모델을 활용하기 위해 해당 인자를 `False`로 설정해주도록 합니다.)"
   ]
  },
  {
   "cell_type": "code",
   "execution_count": 16,
   "metadata": {
    "execution": {
     "iopub.execute_input": "2022-04-18T01:28:41.657295Z",
     "iopub.status.busy": "2022-04-18T01:28:41.656941Z",
     "iopub.status.idle": "2022-04-18T01:28:41.662461Z",
     "shell.execute_reply": "2022-04-18T01:28:41.661611Z",
     "shell.execute_reply.started": "2022-04-18T01:28:41.657231Z"
    },
    "id": "2f8f8cc0"
   },
   "outputs": [],
   "source": [
    "def preprocess_function(examples):\n",
    "    return tokenizer(\n",
    "        examples['title'],\n",
    "        padding=\"max_length\", \n",
    "        max_length = 40,\n",
    "        truncation=True\n",
    "    )"
   ]
  },
  {
   "cell_type": "code",
   "execution_count": 17,
   "metadata": {
    "execution": {
     "iopub.execute_input": "2022-04-18T01:28:41.664058Z",
     "iopub.status.busy": "2022-04-18T01:28:41.663816Z",
     "iopub.status.idle": "2022-04-18T01:28:41.734272Z",
     "shell.execute_reply": "2022-04-18T01:28:41.733466Z",
     "shell.execute_reply.started": "2022-04-18T01:28:41.664023Z"
    }
   },
   "outputs": [],
   "source": [
    "train_df = pd.DataFrame({'title':np.squeeze(x_train).tolist(), 'label': np.squeeze(y_train).tolist()})\n",
    "eval_df = pd.DataFrame({'title':np.squeeze(x_eval).tolist(), 'label': np.squeeze(y_eval).tolist()})\n",
    "test_df = pd.DataFrame({'title':np.squeeze(x_test).tolist(), 'label': np.squeeze(y_test).tolist()})\n",
    "test_df.head()"
   ]
  },
  {
   "cell_type": "code",
   "execution_count": 18,
   "metadata": {
    "execution": {
     "iopub.execute_input": "2022-04-18T01:28:41.736120Z",
     "iopub.status.busy": "2022-04-18T01:28:41.735789Z",
     "iopub.status.idle": "2022-04-18T01:28:41.813286Z",
     "shell.execute_reply": "2022-04-18T01:28:41.812594Z",
     "shell.execute_reply.started": "2022-04-18T01:28:41.736068Z"
    }
   },
   "outputs": [],
   "source": [
    "train_data = Dataset.from_pandas(train_df)\n",
    "eval_data = Dataset.from_pandas(eval_df)\n",
    "test_data = Dataset.from_pandas(test_df)"
   ]
  },
  {
   "cell_type": "code",
   "execution_count": 19,
   "metadata": {
    "execution": {
     "iopub.execute_input": "2022-04-18T01:28:41.814890Z",
     "iopub.status.busy": "2022-04-18T01:28:41.814649Z",
     "iopub.status.idle": "2022-04-18T01:28:41.835623Z",
     "shell.execute_reply": "2022-04-18T01:28:41.834622Z",
     "shell.execute_reply.started": "2022-04-18T01:28:41.814854Z"
    }
   },
   "outputs": [],
   "source": [
    "# Test data\n",
    "test_dt = Dataset.from_pandas(df_test)"
   ]
  },
  {
   "cell_type": "code",
   "execution_count": 20,
   "metadata": {
    "execution": {
     "iopub.execute_input": "2022-04-18T01:28:41.837819Z",
     "iopub.status.busy": "2022-04-18T01:28:41.837453Z",
     "iopub.status.idle": "2022-04-18T01:28:41.847717Z",
     "shell.execute_reply": "2022-04-18T01:28:41.846279Z",
     "shell.execute_reply.started": "2022-04-18T01:28:41.837778Z"
    }
   },
   "outputs": [],
   "source": [
    "display(test_dt[:3])"
   ]
  },
  {
   "cell_type": "code",
   "execution_count": 21,
   "metadata": {
    "execution": {
     "iopub.execute_input": "2022-04-18T01:28:41.849149Z",
     "iopub.status.busy": "2022-04-18T01:28:41.848901Z",
     "iopub.status.idle": "2022-04-18T01:28:41.861352Z",
     "shell.execute_reply": "2022-04-18T01:28:41.860353Z",
     "shell.execute_reply.started": "2022-04-18T01:28:41.849089Z"
    }
   },
   "outputs": [],
   "source": [
    "# preprocess_function(dataset_train[:3])\n",
    "display(train_data[:3])\n",
    "preprocess_function(train_data[:3])"
   ]
  },
  {
   "cell_type": "markdown",
   "metadata": {
    "id": "F-qK5fgl4_6t"
   },
   "source": [
    "앞서 정의한 `process_function`은 여러 개의 예제 데이터를 받을 수도 있습니다."
   ]
  },
  {
   "cell_type": "markdown",
   "metadata": {
    "id": "a_usMC7U5AyW"
   },
   "source": [
    "이제 정의된 전처리 함수를 활용해 데이터셋을 미리 토큰화시키는 작업을 수행합니다.\n",
    "\n",
    "`datasets` 라이브러리를 통해 얻어진 `DatasetDict` 객체는 `map()` 함수를 지원하므로, 정의된 전처리 함수를 데이터셋 토큰화를 위한 콜백 함수로 `map()` 함수 인자로 넘겨주면 됩니다.\n",
    "\n",
    "보다 자세한 내용은 [문서](https://huggingface.co/docs/datasets/processing.html#processing-data-with-map)를 참조해주시면 됩니다."
   ]
  },
  {
   "cell_type": "code",
   "execution_count": 22,
   "metadata": {
    "execution": {
     "iopub.execute_input": "2022-04-18T01:28:41.862911Z",
     "iopub.status.busy": "2022-04-18T01:28:41.862638Z",
     "iopub.status.idle": "2022-04-18T01:28:48.753669Z",
     "shell.execute_reply": "2022-04-18T01:28:48.753024Z",
     "shell.execute_reply.started": "2022-04-18T01:28:41.862874Z"
    },
    "id": "f7c72286",
    "outputId": "c5d617ae-75d2-4085-fc22-2de3e8f0c4d5"
   },
   "outputs": [],
   "source": [
    "# encoded_dataset_train = dataset_train.map(preprocess_function, batched=True)\n",
    "# encoded_dataset_validation = dataset_validation.map(preprocess_function, batched=True)\n",
    "\n",
    "encoded_dataset_train = train_data.map(preprocess_function, batched=True)\n",
    "encoded_dataset_eval = eval_data.map(preprocess_function, batched=True)\n",
    "encoded_dataset_test = test_data.map(preprocess_function, batched=True)"
   ]
  },
  {
   "cell_type": "code",
   "execution_count": 23,
   "metadata": {
    "execution": {
     "iopub.execute_input": "2022-04-18T01:28:48.755156Z",
     "iopub.status.busy": "2022-04-18T01:28:48.754815Z",
     "iopub.status.idle": "2022-04-18T01:28:51.048678Z",
     "shell.execute_reply": "2022-04-18T01:28:51.047917Z",
     "shell.execute_reply.started": "2022-04-18T01:28:48.755120Z"
    }
   },
   "outputs": [],
   "source": [
    "encoded_data_test = test_dt.map(preprocess_function, batched=True)"
   ]
  },
  {
   "cell_type": "code",
   "execution_count": 24,
   "metadata": {
    "execution": {
     "iopub.execute_input": "2022-04-18T01:28:51.051920Z",
     "iopub.status.busy": "2022-04-18T01:28:51.051440Z",
     "iopub.status.idle": "2022-04-18T01:28:51.057953Z",
     "shell.execute_reply": "2022-04-18T01:28:51.057055Z",
     "shell.execute_reply.started": "2022-04-18T01:28:51.051879Z"
    }
   },
   "outputs": [],
   "source": [
    "print(encoded_data_test[0])"
   ]
  },
  {
   "cell_type": "markdown",
   "metadata": {
    "id": "n6p7zIL75Bif"
   },
   "source": [
    "학습을 위한 모델을 로드할 차례입니다.\n",
    "\n",
    "앞서 살펴본 바와 같이 **KLUE YNAT**에는 총 7개의 클래스가 존재하므로, 7개의 클래스를 예측할 수 있는 *SequenceClassification* 구조로 모델을 로드하도록 합니다."
   ]
  },
  {
   "cell_type": "code",
   "execution_count": 25,
   "metadata": {
    "execution": {
     "iopub.execute_input": "2022-04-18T01:28:51.060136Z",
     "iopub.status.busy": "2022-04-18T01:28:51.059708Z",
     "iopub.status.idle": "2022-04-18T01:28:51.067885Z",
     "shell.execute_reply": "2022-04-18T01:28:51.067025Z",
     "shell.execute_reply.started": "2022-04-18T01:28:51.060080Z"
    },
    "id": "ouLKkBM9WdWC",
    "outputId": "3bf1cfe5-93e1-4075-de37-2ca64b9c51f6"
   },
   "outputs": [],
   "source": [
    "# print(encoded_dataset_train[0])\n",
    "print(encoded_dataset_train[:3])"
   ]
  },
  {
   "cell_type": "markdown",
   "metadata": {},
   "source": [
    "## 3. Fine-Tuning\n",
    " - Bert model select\n",
    " - Metrics select\n",
    " - Hyperparameter setting\n",
    " - Training"
   ]
  },
  {
   "cell_type": "code",
   "execution_count": 26,
   "metadata": {
    "execution": {
     "iopub.execute_input": "2022-04-18T01:28:51.069958Z",
     "iopub.status.busy": "2022-04-18T01:28:51.069212Z",
     "iopub.status.idle": "2022-04-18T01:29:12.798113Z",
     "shell.execute_reply": "2022-04-18T01:29:12.797451Z",
     "shell.execute_reply.started": "2022-04-18T01:28:51.069920Z"
    },
    "id": "7ae93dd8"
   },
   "outputs": [],
   "source": [
    "model = AutoModelForSequenceClassification.from_pretrained(model_checkpoint, num_labels=num_labels) # from_pt=True"
   ]
  },
  {
   "cell_type": "markdown",
   "metadata": {
    "id": "ZSc4c6K5oR_R"
   },
   "source": [
    "모델을 로드할 때 발생하는 경고 문구는 두 가지 의미를 지닙니다.\n",
    "\n",
    "1. *Masked Language Modeling* 을 위해 존재했던 `lm_head`가 현재는 사용되지 않고 있음을 의미합니다.\n",
    "2. 문장 분류를 위한 `classifier` 레이어를 백본 모델 뒤에 이어 붙였으나 아직 훈련이 되지 않았으므로, 학습을 수행해야 함을 의미합니다."
   ]
  },
  {
   "cell_type": "markdown",
   "metadata": {
    "id": "x6bvKcsv5CPo"
   },
   "source": [
    "마지막으로 앞서 정의한 메트릭을 모델 예측 결과에 적용하기 위한 함수를 정의합니다.\n",
    "\n",
    "입력으로 들어오는 `eval_pred`는 [*EvalPrediction*](https://huggingface.co/transformers/internal/trainer_utils.html#transformers.EvalPrediction) 객체이며, 모델의 클래스 별 예측 값과 정답 값을 지닙니다.\n",
    "\n",
    "클래스 별 예측 중 가장 높은 라벨을 `argmax()`를 통해 뽑아낸 후, 정답 라벨과 비교를 하게 됩니다."
   ]
  },
  {
   "cell_type": "code",
   "execution_count": 27,
   "metadata": {
    "execution": {
     "iopub.execute_input": "2022-04-18T01:29:12.799617Z",
     "iopub.status.busy": "2022-04-18T01:29:12.799211Z",
     "iopub.status.idle": "2022-04-18T01:29:14.036418Z",
     "shell.execute_reply": "2022-04-18T01:29:14.035660Z",
     "shell.execute_reply.started": "2022-04-18T01:29:12.799574Z"
    },
    "id": "efej9tQkclYY"
   },
   "outputs": [],
   "source": [
    "from sklearn.metrics import precision_recall_fscore_support, accuracy_score\n",
    "\n",
    "# def compute_metrics(pred):\n",
    "#     labels = pred.label_ids\n",
    "#     preds = pred.predictions.argmax(-1)\n",
    "#     precision, recall, f1, supp = precision_recall_fscore_support(labels, preds, average='macro')\n",
    "#     acc = accuracy_score(labels, preds)\n",
    "#     return {\n",
    "#         'accuracy': acc,\n",
    "#         'f1': f1,\n",
    "#         'precision': precision,\n",
    "#         'recall': recall\n",
    "#     }\n",
    "metric = load_metric(\"accuracy\")\n",
    "\n",
    "def compute_metrics(eval_pred):\n",
    "    predictions, labels = eval_pred\n",
    "    print(predictions)\n",
    "    predictions = np.argmax(predictions, axis=1)\n",
    "    return metric.compute(predictions=predictions, references=labels)\n"
   ]
  },
  {
   "cell_type": "markdown",
   "metadata": {
    "id": "aU_dmMAVE_FA"
   },
   "source": [
    "이제 앞서 정의한 정보들을 바탕으로 `transformers`에서 제공하는 *Trainer* 객체를 활용하기 위한 인자 관리 클래스를 초기화합니다.\n",
    "\n",
    "`metric_name`은 앞서 얻어진 메트릭 함수를 활용했을 때, 아래와 같이 `dict` 형식으로 결과 값이 반환되는데 여기서 우리가 사용할 *key* 를 정의해준다고 생각하시면 됩니다.\n",
    "\n",
    "```python\n",
    ">>> metric.compute(predictions=fake_preds, references=fake_labels)\n",
    "{'accuracy': 0.515625}\n",
    "```\n",
    "\n",
    "각 인자에 대한 자세한 설명은 [문서](https://huggingface.co/transformers/main_classes/trainer.html#trainingarguments)에서 참조해주시면 됩니다."
   ]
  },
  {
   "cell_type": "code",
   "execution_count": 28,
   "metadata": {
    "execution": {
     "iopub.execute_input": "2022-04-18T01:29:14.037869Z",
     "iopub.status.busy": "2022-04-18T01:29:14.037619Z",
     "iopub.status.idle": "2022-04-18T01:29:14.107120Z",
     "shell.execute_reply": "2022-04-18T01:29:14.106321Z",
     "shell.execute_reply.started": "2022-04-18T01:29:14.037835Z"
    },
    "id": "864b6408"
   },
   "outputs": [],
   "source": [
    "metric_name = \"accuracy\"\n",
    "\n",
    "args = TrainingArguments(\n",
    "    #\"test-nli\",\n",
    "    \"test-ynat\",\n",
    "    evaluation_strategy=\"epoch\",\n",
    "    save_strategy = 'no',\n",
    "#     save_strategy = \"epoch\",\n",
    "    learning_rate = learningRate,\n",
    "    per_device_train_batch_size = batch_size,\n",
    "    per_device_eval_batch_size = batch_size,\n",
    "    num_train_epochs = num_epochs,\n",
    "    weight_decay = weight_decay,\n",
    "    # seed = seed_value,\n",
    "#     load_best_model_at_end = True,\n",
    "    load_best_model_at_end = False,\n",
    "    metric_for_best_model = metric_name,\n",
    "    report_to ='none'\n",
    "\n",
    ")"
   ]
  },
  {
   "cell_type": "markdown",
   "metadata": {
    "id": "PcvI6ZHe3Ty6"
   },
   "source": [
    "이제 로드한 모델, 인자 관리 클래스, 데이터셋 등을 *Trainer* 클래스를 초기화에 넘겨주도록 합니다.\n",
    "\n",
    "(TIP: Q: 이미 `encoded_datasets`을 만드는 과정에 토큰화가 이루어졌는데 토크나이저를 굳이 넘겨주는 이유가 무엇인가요?,<br>A: 토큰화는 이루어졌지만 학습 과정 시, 데이터를 배치 단위로 넘겨주는 과정에서 배치에 포함된 가장 긴 시퀀스 기준으로 `truncation`을 수행하고 최대 길이 시퀀스 보다 짧은 시퀀스들은 그 길이만큼 `padding`을 수행해주기 위함입니다.)"
   ]
  },
  {
   "cell_type": "code",
   "execution_count": 29,
   "metadata": {
    "execution": {
     "iopub.execute_input": "2022-04-18T01:29:14.108839Z",
     "iopub.status.busy": "2022-04-18T01:29:14.108582Z",
     "iopub.status.idle": "2022-04-18T01:29:19.813170Z",
     "shell.execute_reply": "2022-04-18T01:29:19.812433Z",
     "shell.execute_reply.started": "2022-04-18T01:29:14.108802Z"
    },
    "id": "c91650f2"
   },
   "outputs": [],
   "source": [
    "trainer = Trainer(\n",
    "    model,\n",
    "    args,\n",
    "    train_dataset = encoded_dataset_train,\n",
    "    eval_dataset = encoded_dataset_eval,\n",
    "    tokenizer = tokenizer,\n",
    "    compute_metrics = compute_metrics,\n",
    ")"
   ]
  },
  {
   "cell_type": "markdown",
   "metadata": {
    "id": "KImxQi1ZFAO4"
   },
   "source": [
    "이제 정의된 *Trainer* 객체를 다음과 같이 훈련시킬 수 있습니다.\n",
    "\n",
    "에폭이 지남에 따라 *Loss* 는 떨어지고, 앞서 선정한 메트릭인 *Accuracy* 는 증가하는 것을 확인할 수 있습니다."
   ]
  },
  {
   "cell_type": "markdown",
   "metadata": {
    "id": "avS6mBu8779g"
   },
   "source": [
    "*Trainer* 는 학습을 마치게 되면, `load_best_model_at_end=True` 인자에 따라 메트릭 기준 가장 좋은 성능을 보였던 체크포인트를 로드하게 됩니다.\n",
    "\n",
    "본 노트북에서는 마지막 에폭 때 가장 좋은 성능을 얻었기에 `evaluate`를 수행해도 같은 결과가 나오겠습니다."
   ]
  },
  {
   "cell_type": "code",
   "execution_count": 30,
   "metadata": {
    "execution": {
     "iopub.execute_input": "2022-04-18T01:29:19.816974Z",
     "iopub.status.busy": "2022-04-18T01:29:19.816735Z",
     "iopub.status.idle": "2022-04-18T01:55:09.474598Z",
     "shell.execute_reply": "2022-04-18T01:55:09.473810Z",
     "shell.execute_reply.started": "2022-04-18T01:29:19.816943Z"
    },
    "id": "73261f8e",
    "outputId": "8e740b28-55a7-46f3-b550-bdf8a79c5963"
   },
   "outputs": [],
   "source": [
    "trainer.train()"
   ]
  },
  {
   "cell_type": "markdown",
   "metadata": {},
   "source": [
    "## 4. Save model"
   ]
  },
  {
   "cell_type": "code",
   "execution_count": null,
   "metadata": {
    "execution": {
     "iopub.execute_input": "2022-04-16T08:05:50.841487Z",
     "iopub.status.busy": "2022-04-16T08:05:50.841042Z",
     "iopub.status.idle": "2022-04-16T08:05:51.549339Z",
     "shell.execute_reply": "2022-04-16T08:05:51.548543Z",
     "shell.execute_reply.started": "2022-04-16T08:05:50.841449Z"
    }
   },
   "outputs": [],
   "source": [
    "# model.save_pretrained('./my_model_up.h5')  # tensorflow model save\n",
    "model.save_pretrained('./my_model_np.pt')    # pytorch model save\n",
    "# trainer.save_model() \n",
    "# special_tokens_map.json\n",
    "# tokenizer_config.json\n",
    "# training_arg.bin\n",
    "# tokenizer.json\n",
    "# sentencepiece.bpe.model\n",
    "# pytorch_model.bin\n",
    "# config.json\n",
    "\n"
   ]
  },
  {
   "cell_type": "code",
   "execution_count": null,
   "metadata": {},
   "outputs": [],
   "source": []
  },
  {
   "cell_type": "markdown",
   "metadata": {},
   "source": [
    "## Predict with test data"
   ]
  },
  {
   "cell_type": "code",
   "execution_count": 31,
   "metadata": {
    "execution": {
     "iopub.execute_input": "2022-04-18T01:55:09.477277Z",
     "iopub.status.busy": "2022-04-18T01:55:09.476513Z",
     "iopub.status.idle": "2022-04-18T01:55:52.193206Z",
     "shell.execute_reply": "2022-04-18T01:55:52.192393Z",
     "shell.execute_reply.started": "2022-04-18T01:55:09.477235Z"
    },
    "id": "58239e17"
   },
   "outputs": [],
   "source": [
    "trainer.predict(encoded_dataset_test)"
   ]
  },
  {
   "cell_type": "code",
   "execution_count": 37,
   "metadata": {
    "execution": {
     "iopub.execute_input": "2022-04-18T02:04:30.864371Z",
     "iopub.status.busy": "2022-04-18T02:04:30.863819Z",
     "iopub.status.idle": "2022-04-18T02:05:35.437961Z",
     "shell.execute_reply": "2022-04-18T02:05:35.437132Z",
     "shell.execute_reply.started": "2022-04-18T02:04:30.864332Z"
    }
   },
   "outputs": [],
   "source": [
    "prediction = trainer.predict(encoded_data_test)"
   ]
  },
  {
   "cell_type": "code",
   "execution_count": 38,
   "metadata": {
    "execution": {
     "iopub.execute_input": "2022-04-18T02:05:35.439929Z",
     "iopub.status.busy": "2022-04-18T02:05:35.439604Z",
     "iopub.status.idle": "2022-04-18T02:05:35.446773Z",
     "shell.execute_reply": "2022-04-18T02:05:35.445851Z",
     "shell.execute_reply.started": "2022-04-18T02:05:35.439890Z"
    }
   },
   "outputs": [],
   "source": [
    "dir(prediction)"
   ]
  },
  {
   "cell_type": "code",
   "execution_count": 59,
   "metadata": {
    "execution": {
     "iopub.execute_input": "2022-04-18T02:13:36.326596Z",
     "iopub.status.busy": "2022-04-18T02:13:36.325929Z",
     "iopub.status.idle": "2022-04-18T02:13:36.333614Z",
     "shell.execute_reply": "2022-04-18T02:13:36.332889Z",
     "shell.execute_reply.started": "2022-04-18T02:13:36.326555Z"
    }
   },
   "outputs": [],
   "source": [
    "print((np.argmax(prediction.predictions, axis=1) != prediction.label_ids))\n",
    "print(prediction.label_ids)\n",
    "fail_idx = np.argmax(prediction.predictions, axis=1) != prediction.label_ids"
   ]
  },
  {
   "cell_type": "code",
   "execution_count": 76,
   "metadata": {
    "execution": {
     "iopub.execute_input": "2022-04-18T02:25:26.648414Z",
     "iopub.status.busy": "2022-04-18T02:25:26.647732Z",
     "iopub.status.idle": "2022-04-18T02:25:26.667677Z",
     "shell.execute_reply": "2022-04-18T02:25:26.667017Z",
     "shell.execute_reply.started": "2022-04-18T02:25:26.648373Z"
    }
   },
   "outputs": [],
   "source": [
    "fail = {'prediction': np.argmax(prediction.predictions, axis=1)}\n",
    "df_test['prediction'] = np.argmax(prediction.predictions, axis=1)\n",
    "df_fail = df_test[df_test['label'] != df_test['prediction']]\n",
    "df_fail\n",
    "# df_test"
   ]
  },
  {
   "cell_type": "code",
   "execution_count": 77,
   "metadata": {
    "execution": {
     "iopub.execute_input": "2022-04-18T02:25:31.771004Z",
     "iopub.status.busy": "2022-04-18T02:25:31.770743Z",
     "iopub.status.idle": "2022-04-18T02:25:31.783717Z",
     "shell.execute_reply": "2022-04-18T02:25:31.782610Z",
     "shell.execute_reply.started": "2022-04-18T02:25:31.770968Z"
    }
   },
   "outputs": [],
   "source": [
    "df_fail = df_fail.iloc[:, :-1]\n",
    "df_fail"
   ]
  },
  {
   "cell_type": "code",
   "execution_count": 78,
   "metadata": {
    "execution": {
     "iopub.execute_input": "2022-04-18T02:25:42.955008Z",
     "iopub.status.busy": "2022-04-18T02:25:42.954271Z",
     "iopub.status.idle": "2022-04-18T02:25:42.965914Z",
     "shell.execute_reply": "2022-04-18T02:25:42.965289Z",
     "shell.execute_reply.started": "2022-04-18T02:25:42.954960Z"
    }
   },
   "outputs": [],
   "source": [
    "# 0 IT과학\n",
    "# 1 경제\n",
    "# 2 사회 \n",
    "# 3 생활문화\n",
    "# 4 세계\n",
    "# 5 스포츠\n",
    "# 6 정치\n",
    "df_fail.head(30)"
   ]
  },
  {
   "cell_type": "code",
   "execution_count": 85,
   "metadata": {
    "execution": {
     "iopub.execute_input": "2022-04-18T02:35:00.142785Z",
     "iopub.status.busy": "2022-04-18T02:35:00.142525Z",
     "iopub.status.idle": "2022-04-18T02:35:00.150252Z",
     "shell.execute_reply": "2022-04-18T02:35:00.149530Z",
     "shell.execute_reply.started": "2022-04-18T02:35:00.142756Z"
    }
   },
   "outputs": [],
   "source": [
    "print(df_fail['label'].value_counts())\n",
    "print()\n",
    "print(df_fail['predicion'].value_counts())"
   ]
  },
  {
   "cell_type": "code",
   "execution_count": 67,
   "metadata": {
    "execution": {
     "iopub.execute_input": "2022-04-18T02:22:24.144117Z",
     "iopub.status.busy": "2022-04-18T02:22:24.143855Z",
     "iopub.status.idle": "2022-04-18T02:22:24.172801Z",
     "shell.execute_reply": "2022-04-18T02:22:24.172001Z",
     "shell.execute_reply.started": "2022-04-18T02:22:24.144075Z"
    }
   },
   "outputs": [],
   "source": [
    "df_fail['prediction'] = np.argmax(prediction.predictions, axis=1)"
   ]
  },
  {
   "cell_type": "markdown",
   "metadata": {},
   "source": [
    "## Check the wrong prediction"
   ]
  },
  {
   "cell_type": "code",
   "execution_count": 36,
   "metadata": {
    "execution": {
     "iopub.execute_input": "2022-04-18T02:03:24.949764Z",
     "iopub.status.busy": "2022-04-18T02:03:24.949488Z",
     "iopub.status.idle": "2022-04-18T02:03:24.983759Z",
     "shell.execute_reply": "2022-04-18T02:03:24.982821Z",
     "shell.execute_reply.started": "2022-04-18T02:03:24.949735Z"
    }
   },
   "outputs": [],
   "source": [
    "# encoded_data_test[0]\n",
    "trainer.evaluate(encoded_data_test[0])"
   ]
  },
  {
   "cell_type": "markdown",
   "metadata": {
    "id": "stk6rOUyFJuM"
   },
   "source": [
    "지금까지 `transformers`를 라이브러리 내 문장 분류 모델을 학습하는 과정을 KLUE NLI 데이터셋을 통해 알아보았습니다.\n",
    "\n",
    "본 노트북을 통해 습득한 지식이 여러분의 업무와 학습에 도움이 되었으면 좋겠습니다.\n",
    "\n",
    "```\n",
    "허 훈 (huffonism@gmail.com)\n",
    "```"
   ]
  },
  {
   "cell_type": "markdown",
   "metadata": {
    "id": "SkNpAqSJ78oM"
   },
   "source": [
    "APPENDIX: 앞서 학습된 모델을 HuggingFace 모델 허브에 업로드하였으니, 아래 예제와 같이 `pipeline` 함수를 통해 사용이 가능합니다.\n",
    "\n",
    "먼저 `text-classification` 태스크로 파이프라인 객체를 초기화합니다.\n",
    "\n",
    "( \\* `return_all_scores`는 모델이 입력 문장에 대해 측정한 각 라벨에 대한 확률 값을 모두 보여줄 것인지를 결정하는 인자입니다.)"
   ]
  },
  {
   "cell_type": "code",
   "execution_count": null,
   "metadata": {
    "id": "htUZ0ws19Ksk"
   },
   "outputs": [],
   "source": [
    "from transformers import pipeline\n",
    "\n",
    "classifier = pipeline(\n",
    "    task = \"text-classification\",\n",
    "    tokenizer = 'xlm-roberta-large'\n",
    "#     model='plbr/my_model'\n",
    "    model=\"yobi/klue-roberta-base-ynat\",\n",
    "    return_all_scores=True,\n",
    ")"
   ]
  },
  {
   "cell_type": "markdown",
   "metadata": {
    "id": "2uW7UQgBFBPw"
   },
   "source": [
    "NLI는 두 문장의 페어를 입력 값으로 주어야 하기 때문에 구분자 스페셜 토큰을 두 문장 사이에 넣어주기 위해 토크나이저 객체를 로드합니다.\n",
    "\n",
    "`[SEP]` 문자열을 하드코딩하여 넣어줄 수도 있겠지만, 스페셜 토큰은 토크나이저 마다 다르게 정의되므로 다른 모델을 활용할 때 보다 코드를 재사용할 수 있도록 토크나이저의 `sep_token` 프로퍼티에 접근하는 방식으로 코드를 작성합니다."
   ]
  },
  {
   "cell_type": "code",
   "execution_count": null,
   "metadata": {
    "id": "UoXTmep0Dcwg"
   },
   "outputs": [],
   "source": [
    "model=\"yobi/klue-roberta-base-ynat\"\n",
    "tokenizer = AutoTokenizer.from_pretrained(model)"
   ]
  },
  {
   "cell_type": "code",
   "execution_count": null,
   "metadata": {
    "id": "MuOQhiVPDiMq"
   },
   "outputs": [],
   "source": [
    "tokenizer.sep_token"
   ]
  },
  {
   "cell_type": "markdown",
   "metadata": {
    "id": "iCP9OgWHFDLG"
   },
   "source": [
    "`sep_token`으로 두 문장을 이어 하나의 입력 값으로 파이프라인에 넘겨줍니다.\n",
    "\n",
    "입력된 문장에 대해 모델이 각 라벨에 대해 어떤 확률을 가지고 예측했는지를 확인할 수 있습니다."
   ]
  },
  {
   "cell_type": "markdown",
   "metadata": {
    "id": "Uvx8PPTsrPyC"
   },
   "source": [
    "검증 데이터에 존재하는 임의의 문장 페어를 입력해보니, 우리가 원하던 결과를 얻을 수 있었습니다.\n",
    "\n",
    "*(cf. NLI 데이터에 대해 학습된 모델을 활용해 Zero-shot Classification을 수행하는 예제가 궁금하신 분들은 해당 [노트북](https://colab.research.google.com/github/Huffon/klue-transformers-tutorial/blob/master/zero_shot_classification.ipynb)을 참조해주세요.)*"
   ]
  }
 ],
 "metadata": {
  "kernelspec": {
   "display_name": "Python 3 (ipykernel)",
   "language": "python",
   "name": "python3"
  },
  "language_info": {
   "codemirror_mode": {
    "name": "ipython",
    "version": 3
   },
   "file_extension": ".py",
   "mimetype": "text/x-python",
   "name": "python",
   "nbconvert_exporter": "python",
   "pygments_lexer": "ipython3",
   "version": "3.9.12"
  }
 },
 "nbformat": 4,
 "nbformat_minor": 4
}
